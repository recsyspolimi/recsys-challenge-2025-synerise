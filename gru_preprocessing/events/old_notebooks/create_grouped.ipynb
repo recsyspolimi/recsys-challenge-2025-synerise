{
 "cells": [
  {
   "cell_type": "code",
   "execution_count": 1,
   "id": "c56076fc",
   "metadata": {
    "_cell_guid": "b1076dfc-b9ad-4769-8c92-a6c4dae69d19",
    "_uuid": "8f2839f25d086af736a60e9eeb907d3b93b6e0e5",
    "execution": {
     "iopub.execute_input": "2025-05-30T16:12:04.432625Z",
     "iopub.status.busy": "2025-05-30T16:12:04.431704Z",
     "iopub.status.idle": "2025-05-30T16:12:12.937488Z",
     "shell.execute_reply": "2025-05-30T16:12:12.936533Z"
    },
    "papermill": {
     "duration": 8.515015,
     "end_time": "2025-05-30T16:12:12.939204",
     "exception": false,
     "start_time": "2025-05-30T16:12:04.424189",
     "status": "completed"
    },
    "tags": []
   },
   "outputs": [],
   "source": [
    "import polars as pl\n",
    "import numpy as np\n",
    "\n",
    "\n",
    "page_visit=pl.read_parquet(\"/kaggle/input/sub-data-gru/visit_events_sub.parquet\")\n",
    "search_query=pl.read_parquet(\"/kaggle/input/sub-data-gru/search_events_sub.parquet\")\n",
    "products=pl.read_parquet(\"/kaggle/input/sub-data-gru/product_events_sub.parquet\")"
   ]
  },
  {
   "cell_type": "code",
   "execution_count": 3,
   "id": "0df05a5a",
   "metadata": {
    "execution": {
     "iopub.execute_input": "2025-05-30T16:12:13.513035Z",
     "iopub.status.busy": "2025-05-30T16:12:13.512246Z",
     "iopub.status.idle": "2025-05-30T16:12:13.596047Z",
     "shell.execute_reply": "2025-05-30T16:12:13.595146Z"
    },
    "papermill": {
     "duration": 0.090389,
     "end_time": "2025-05-30T16:12:13.597705",
     "exception": false,
     "start_time": "2025-05-30T16:12:13.507316",
     "status": "completed"
    },
    "tags": []
   },
   "outputs": [],
   "source": [
    "page_visit=page_visit.with_columns([\n",
    "    pl.lit(\"page_visit\").alias(\"event_type\")\n",
    "])\n",
    "search_query=search_query.with_columns([\n",
    "    pl.lit(\"search_query\").alias(\"event_type\")\n",
    "])"
   ]
  },
  {
   "cell_type": "code",
   "execution_count": 4,
   "id": "0f09e0e2",
   "metadata": {
    "execution": {
     "iopub.execute_input": "2025-05-30T16:12:13.607211Z",
     "iopub.status.busy": "2025-05-30T16:12:13.606894Z",
     "iopub.status.idle": "2025-05-30T16:12:13.627799Z",
     "shell.execute_reply": "2025-05-30T16:12:13.627008Z"
    },
    "papermill": {
     "duration": 0.027143,
     "end_time": "2025-05-30T16:12:13.629129",
     "exception": false,
     "start_time": "2025-05-30T16:12:13.601986",
     "status": "completed"
    },
    "tags": []
   },
   "outputs": [
    {
     "data": {
      "text/html": [
       "<div><style>\n",
       ".dataframe > thead > tr,\n",
       ".dataframe > tbody > tr {\n",
       "  text-align: right;\n",
       "  white-space: pre-wrap;\n",
       "}\n",
       "</style>\n",
       "<small>shape: (5_011_057, 42)</small><table border=\"1\" class=\"dataframe\"><thead><tr><th>client_id</th><th>timestamp</th><th>sku</th><th>event_type</th><th>category</th><th>count_add</th><th>count_buy</th><th>count_remove</th><th>count_user_add</th><th>count_user_buy</th><th>count_user_remove</th><th>tot_user_add</th><th>tot_user_buy</th><th>tot_user_remove</th><th>count_cat_add</th><th>count_cat_buy</th><th>count_cat_remove</th><th>count_cat_user_add</th><th>count_cat_user_buy</th><th>count_cat_user_remove</th><th>global_cat_cr</th><th>local_cat_cr</th><th>global_cr</th><th>local_cr</th><th>cr</th><th>top_sku</th><th>top_category</th><th>cluster_id</th><th>cluster_add_count</th><th>cluster_buy_count</th><th>cluster_remove_count</th><th>cluster_add_user_count</th><th>cluster_buy_user_count</th><th>cluster_remove_user_count</th><th>sku_entropy</th><th>cluster_entropy</th><th>cat_entropy</th><th>user_sku_entropy</th><th>user_cluster_entropy</th><th>user_cat_entropy</th><th>norm</th><th>price</th></tr><tr><td>i64</td><td>datetime[μs]</td><td>i64</td><td>str</td><td>i64</td><td>f64</td><td>f64</td><td>f64</td><td>f64</td><td>f64</td><td>f64</td><td>f64</td><td>f64</td><td>f64</td><td>f64</td><td>f64</td><td>f64</td><td>f64</td><td>f64</td><td>f64</td><td>f64</td><td>f64</td><td>f64</td><td>f64</td><td>f64</td><td>i8</td><td>i8</td><td>i32</td><td>f64</td><td>f64</td><td>f64</td><td>f64</td><td>f64</td><td>f64</td><td>f64</td><td>f64</td><td>f64</td><td>f64</td><td>f64</td><td>f64</td><td>list[f64]</td><td>f64</td></tr></thead><tbody><tr><td>17649961</td><td>2022-07-23 20:15:25</td><td>18485</td><td>&quot;buy_product&quot;</td><td>5492</td><td>0.072835</td><td>0.121697</td><td>0.059829</td><td>0.0</td><td>0.003953</td><td>0.0</td><td>0.000578</td><td>0.001504</td><td>0.0</td><td>0.024151</td><td>0.031998</td><td>0.024755</td><td>0.0</td><td>0.002092</td><td>0.0</td><td>0.445325</td><td>1.0</td><td>0.428169</td><td>1.0</td><td>1.0</td><td>0</td><td>0</td><td>45</td><td>0.362558</td><td>0.493934</td><td>0.35031</td><td>0.0</td><td>0.002967</td><td>0.0</td><td>0.366143</td><td>0.699389</td><td>0.508073</td><td>0.049525</td><td>0.150515</td><td>0.078681</td><td>[0.733333, 0.184314, … 0.878431]</td><td>0.73</td></tr><tr><td>16696114</td><td>2022-07-11 16:31:30</td><td>81192</td><td>&quot;buy_product&quot;</td><td>6519</td><td>0.004309</td><td>0.006405</td><td>0.005128</td><td>0.003497</td><td>0.003953</td><td>0.0</td><td>0.000578</td><td>0.001504</td><td>0.0</td><td>0.044234</td><td>0.047949</td><td>0.042331</td><td>0.001477</td><td>0.002092</td><td>0.0</td><td>0.364358</td><td>1.0</td><td>0.380952</td><td>1.0</td><td>1.0</td><td>0</td><td>0</td><td>69</td><td>0.488434</td><td>0.576775</td><td>0.518674</td><td>0.001742</td><td>0.002967</td><td>0.0</td><td>0.181305</td><td>0.699548</td><td>0.53623</td><td>7.1378e-8</td><td>2.1693e-7</td><td>1.1340e-7</td><td>[0.945098, 0.945098, … 0.945098]</td><td>1.0</td></tr><tr><td>10238779</td><td>2022-05-29 19:35:40</td><td>510014</td><td>&quot;buy_product&quot;</td><td>6350</td><td>0.000616</td><td>0.004003</td><td>0.0</td><td>0.0</td><td>0.019763</td><td>0.0</td><td>0.002889</td><td>0.009023</td><td>0.002685</td><td>0.037835</td><td>0.041208</td><td>0.044792</td><td>0.0</td><td>0.01046</td><td>0.0</td><td>0.36609</td><td>1.0</td><td>1.0</td><td>1.0</td><td>1.0</td><td>0</td><td>0</td><td>15</td><td>0.40283</td><td>0.537423</td><td>0.375863</td><td>0.0</td><td>0.014837</td><td>0.0</td><td>0.045306</td><td>0.708393</td><td>0.549181</td><td>0.045479</td><td>0.138217</td><td>0.072253</td><td>[0.654902, 0.094118, … 0.12549]</td><td>0.59</td></tr><tr><td>10238779</td><td>2022-05-29 19:38:05</td><td>510014</td><td>&quot;buy_product&quot;</td><td>6350</td><td>0.000616</td><td>0.004003</td><td>0.0</td><td>0.0</td><td>0.019763</td><td>0.0</td><td>0.002889</td><td>0.009023</td><td>0.002685</td><td>0.037835</td><td>0.041208</td><td>0.044792</td><td>0.0</td><td>0.01046</td><td>0.0</td><td>0.36609</td><td>1.0</td><td>1.0</td><td>1.0</td><td>1.0</td><td>0</td><td>0</td><td>15</td><td>0.40283</td><td>0.537423</td><td>0.375863</td><td>0.0</td><td>0.014837</td><td>0.0</td><td>0.045306</td><td>0.708393</td><td>0.549181</td><td>0.045479</td><td>0.138217</td><td>0.072253</td><td>[0.654902, 0.094118, … 0.12549]</td><td>0.59</td></tr><tr><td>10238779</td><td>2022-05-29 19:38:05</td><td>510014</td><td>&quot;buy_product&quot;</td><td>6350</td><td>0.000616</td><td>0.004003</td><td>0.0</td><td>0.0</td><td>0.019763</td><td>0.0</td><td>0.002889</td><td>0.009023</td><td>0.002685</td><td>0.037835</td><td>0.041208</td><td>0.044792</td><td>0.0</td><td>0.01046</td><td>0.0</td><td>0.36609</td><td>1.0</td><td>1.0</td><td>1.0</td><td>1.0</td><td>0</td><td>0</td><td>15</td><td>0.40283</td><td>0.537423</td><td>0.375863</td><td>0.0</td><td>0.014837</td><td>0.0</td><td>0.045306</td><td>0.708393</td><td>0.549181</td><td>0.045479</td><td>0.138217</td><td>0.072253</td><td>[0.654902, 0.094118, … 0.12549]</td><td>0.59</td></tr><tr><td>&hellip;</td><td>&hellip;</td><td>&hellip;</td><td>&hellip;</td><td>&hellip;</td><td>&hellip;</td><td>&hellip;</td><td>&hellip;</td><td>&hellip;</td><td>&hellip;</td><td>&hellip;</td><td>&hellip;</td><td>&hellip;</td><td>&hellip;</td><td>&hellip;</td><td>&hellip;</td><td>&hellip;</td><td>&hellip;</td><td>&hellip;</td><td>&hellip;</td><td>&hellip;</td><td>&hellip;</td><td>&hellip;</td><td>&hellip;</td><td>&hellip;</td><td>&hellip;</td><td>&hellip;</td><td>&hellip;</td><td>&hellip;</td><td>&hellip;</td><td>&hellip;</td><td>&hellip;</td><td>&hellip;</td><td>&hellip;</td><td>&hellip;</td><td>&hellip;</td><td>&hellip;</td><td>&hellip;</td><td>&hellip;</td><td>&hellip;</td><td>&hellip;</td><td>&hellip;</td></tr><tr><td>5889169</td><td>2022-09-16 17:07:35</td><td>1473386</td><td>&quot;remove_from_cart&quot;</td><td>6917</td><td>0.001641</td><td>0.002402</td><td>0.001709</td><td>0.01049</td><td>0.003953</td><td>0.008658</td><td>0.002889</td><td>0.006015</td><td>0.001342</td><td>0.004604</td><td>0.004273</td><td>0.004743</td><td>0.004431</td><td>0.002092</td><td>0.003717</td><td>0.311958</td><td>0.333333</td><td>0.375</td><td>0.8</td><td>0.333333</td><td>0</td><td>0</td><td>25</td><td>0.441784</td><td>0.508368</td><td>0.454333</td><td>0.005226</td><td>0.002967</td><td>0.004141</td><td>0.094236</td><td>0.707042</td><td>0.401995</td><td>0.071087</td><td>0.216045</td><td>0.112937</td><td>[0.556863, 0.552941, … 0.509804]</td><td>0.18</td></tr><tr><td>10025580</td><td>2022-07-07 13:17:59</td><td>767577</td><td>&quot;remove_from_cart&quot;</td><td>4981</td><td>0.047805</td><td>0.111289</td><td>0.026211</td><td>0.003497</td><td>0.0</td><td>0.004329</td><td>0.001155</td><td>0.001504</td><td>0.000671</td><td>0.204885</td><td>0.271743</td><td>0.167347</td><td>0.001477</td><td>0.0</td><td>0.001859</td><td>0.445812</td><td>0.0</td><td>0.596567</td><td>0.5</td><td>0.0</td><td>0</td><td>1</td><td>6</td><td>0.552363</td><td>0.665402</td><td>0.58674</td><td>0.001742</td><td>0.0</td><td>0.00207</td><td>0.374287</td><td>0.729252</td><td>0.66535</td><td>0.049525</td><td>0.150515</td><td>0.078681</td><td>[0.905882, 0.905882, … 0.580392]</td><td>0.67</td></tr><tr><td>3678964</td><td>2022-07-19 13:07:55</td><td>1223924</td><td>&quot;remove_from_cart&quot;</td><td>2864</td><td>0.001231</td><td>0.001601</td><td>0.002279</td><td>0.003497</td><td>0.0</td><td>0.004329</td><td>0.001155</td><td>0.0</td><td>0.000671</td><td>0.043045</td><td>0.051344</td><td>0.037233</td><td>0.002954</td><td>0.0</td><td>0.001859</td><td>0.400927</td><td>0.0</td><td>0.333333</td><td>0.0</td><td>0.0</td><td>0</td><td>0</td><td>91</td><td>0.434313</td><td>0.523207</td><td>0.444996</td><td>0.001742</td><td>0.0</td><td>0.00207</td><td>0.105835</td><td>0.710292</td><td>0.559154</td><td>0.045479</td><td>0.138217</td><td>1.1340e-7</td><td>[0.658824, 0.552941, … 0.52549]</td><td>0.16</td></tr><tr><td>16625993</td><td>2022-09-27 15:25:30</td><td>1181609</td><td>&quot;remove_from_cart&quot;</td><td>3421</td><td>0.024415</td><td>0.023219</td><td>0.020513</td><td>0.006993</td><td>0.0</td><td>0.008658</td><td>0.002311</td><td>0.001504</td><td>0.001342</td><td>0.24702</td><td>0.158541</td><td>0.335176</td><td>0.002954</td><td>0.0</td><td>0.003717</td><td>0.21573</td><td>0.0</td><td>0.243697</td><td>0.25</td><td>0.0</td><td>0</td><td>1</td><td>94</td><td>0.451696</td><td>0.510639</td><td>0.454532</td><td>0.003484</td><td>0.0</td><td>0.004141</td><td>0.296167</td><td>0.714706</td><td>0.643711</td><td>0.068284</td><td>0.207528</td><td>0.077519</td><td>[0.764706, 0.894118, … 0.839216]</td><td>0.59</td></tr><tr><td>16625993</td><td>2022-09-27 15:25:30</td><td>1181609</td><td>&quot;remove_from_cart&quot;</td><td>3421</td><td>0.024415</td><td>0.023219</td><td>0.020513</td><td>0.006993</td><td>0.0</td><td>0.008658</td><td>0.002311</td><td>0.001504</td><td>0.001342</td><td>0.24702</td><td>0.158541</td><td>0.335176</td><td>0.002954</td><td>0.0</td><td>0.003717</td><td>0.21573</td><td>0.0</td><td>0.243697</td><td>0.25</td><td>0.0</td><td>0</td><td>1</td><td>94</td><td>0.451696</td><td>0.510639</td><td>0.454532</td><td>0.003484</td><td>0.0</td><td>0.004141</td><td>0.296167</td><td>0.714706</td><td>0.643711</td><td>0.068284</td><td>0.207528</td><td>0.077519</td><td>[0.764706, 0.894118, … 0.839216]</td><td>0.59</td></tr></tbody></table></div>"
      ],
      "text/plain": [
       "shape: (5_011_057, 42)\n",
       "┌───────────┬────────────┬─────────┬────────────┬───┬────────────┬────────────┬────────────┬───────┐\n",
       "│ client_id ┆ timestamp  ┆ sku     ┆ event_type ┆ … ┆ user_clust ┆ user_cat_e ┆ norm       ┆ price │\n",
       "│ ---       ┆ ---        ┆ ---     ┆ ---        ┆   ┆ er_entropy ┆ ntropy     ┆ ---        ┆ ---   │\n",
       "│ i64       ┆ datetime[μ ┆ i64     ┆ str        ┆   ┆ ---        ┆ ---        ┆ list[f64]  ┆ f64   │\n",
       "│           ┆ s]         ┆         ┆            ┆   ┆ f64        ┆ f64        ┆            ┆       │\n",
       "╞═══════════╪════════════╪═════════╪════════════╪═══╪════════════╪════════════╪════════════╪═══════╡\n",
       "│ 17649961  ┆ 2022-07-23 ┆ 18485   ┆ buy_produc ┆ … ┆ 0.150515   ┆ 0.078681   ┆ [0.733333, ┆ 0.73  │\n",
       "│           ┆ 20:15:25   ┆         ┆ t          ┆   ┆            ┆            ┆ 0.184314,  ┆       │\n",
       "│           ┆            ┆         ┆            ┆   ┆            ┆            ┆ … 0.87843… ┆       │\n",
       "│ 16696114  ┆ 2022-07-11 ┆ 81192   ┆ buy_produc ┆ … ┆ 2.1693e-7  ┆ 1.1340e-7  ┆ [0.945098, ┆ 1.0   │\n",
       "│           ┆ 16:31:30   ┆         ┆ t          ┆   ┆            ┆            ┆ 0.945098,  ┆       │\n",
       "│           ┆            ┆         ┆            ┆   ┆            ┆            ┆ … 0.94509… ┆       │\n",
       "│ 10238779  ┆ 2022-05-29 ┆ 510014  ┆ buy_produc ┆ … ┆ 0.138217   ┆ 0.072253   ┆ [0.654902, ┆ 0.59  │\n",
       "│           ┆ 19:35:40   ┆         ┆ t          ┆   ┆            ┆            ┆ 0.094118,  ┆       │\n",
       "│           ┆            ┆         ┆            ┆   ┆            ┆            ┆ … 0.12549… ┆       │\n",
       "│ 10238779  ┆ 2022-05-29 ┆ 510014  ┆ buy_produc ┆ … ┆ 0.138217   ┆ 0.072253   ┆ [0.654902, ┆ 0.59  │\n",
       "│           ┆ 19:38:05   ┆         ┆ t          ┆   ┆            ┆            ┆ 0.094118,  ┆       │\n",
       "│           ┆            ┆         ┆            ┆   ┆            ┆            ┆ … 0.12549… ┆       │\n",
       "│ 10238779  ┆ 2022-05-29 ┆ 510014  ┆ buy_produc ┆ … ┆ 0.138217   ┆ 0.072253   ┆ [0.654902, ┆ 0.59  │\n",
       "│           ┆ 19:38:05   ┆         ┆ t          ┆   ┆            ┆            ┆ 0.094118,  ┆       │\n",
       "│           ┆            ┆         ┆            ┆   ┆            ┆            ┆ … 0.12549… ┆       │\n",
       "│ …         ┆ …          ┆ …       ┆ …          ┆ … ┆ …          ┆ …          ┆ …          ┆ …     │\n",
       "│ 5889169   ┆ 2022-09-16 ┆ 1473386 ┆ remove_fro ┆ … ┆ 0.216045   ┆ 0.112937   ┆ [0.556863, ┆ 0.18  │\n",
       "│           ┆ 17:07:35   ┆         ┆ m_cart     ┆   ┆            ┆            ┆ 0.552941,  ┆       │\n",
       "│           ┆            ┆         ┆            ┆   ┆            ┆            ┆ … 0.50980… ┆       │\n",
       "│ 10025580  ┆ 2022-07-07 ┆ 767577  ┆ remove_fro ┆ … ┆ 0.150515   ┆ 0.078681   ┆ [0.905882, ┆ 0.67  │\n",
       "│           ┆ 13:17:59   ┆         ┆ m_cart     ┆   ┆            ┆            ┆ 0.905882,  ┆       │\n",
       "│           ┆            ┆         ┆            ┆   ┆            ┆            ┆ … 0.58039… ┆       │\n",
       "│ 3678964   ┆ 2022-07-19 ┆ 1223924 ┆ remove_fro ┆ … ┆ 0.138217   ┆ 1.1340e-7  ┆ [0.658824, ┆ 0.16  │\n",
       "│           ┆ 13:07:55   ┆         ┆ m_cart     ┆   ┆            ┆            ┆ 0.552941,  ┆       │\n",
       "│           ┆            ┆         ┆            ┆   ┆            ┆            ┆ … 0.52549… ┆       │\n",
       "│ 16625993  ┆ 2022-09-27 ┆ 1181609 ┆ remove_fro ┆ … ┆ 0.207528   ┆ 0.077519   ┆ [0.764706, ┆ 0.59  │\n",
       "│           ┆ 15:25:30   ┆         ┆ m_cart     ┆   ┆            ┆            ┆ 0.894118,  ┆       │\n",
       "│           ┆            ┆         ┆            ┆   ┆            ┆            ┆ … 0.83921… ┆       │\n",
       "│ 16625993  ┆ 2022-09-27 ┆ 1181609 ┆ remove_fro ┆ … ┆ 0.207528   ┆ 0.077519   ┆ [0.764706, ┆ 0.59  │\n",
       "│           ┆ 15:25:30   ┆         ┆ m_cart     ┆   ┆            ┆            ┆ 0.894118,  ┆       │\n",
       "│           ┆            ┆         ┆            ┆   ┆            ┆            ┆ … 0.83921… ┆       │\n",
       "└───────────┴────────────┴─────────┴────────────┴───┴────────────┴────────────┴────────────┴───────┘"
      ]
     },
     "execution_count": 4,
     "metadata": {},
     "output_type": "execute_result"
    }
   ],
   "source": [
    "products"
   ]
  },
  {
   "cell_type": "code",
   "execution_count": 5,
   "id": "cdbe2e34",
   "metadata": {
    "execution": {
     "iopub.execute_input": "2025-05-30T16:12:13.639532Z",
     "iopub.status.busy": "2025-05-30T16:12:13.639267Z",
     "iopub.status.idle": "2025-05-30T16:12:13.649675Z",
     "shell.execute_reply": "2025-05-30T16:12:13.648864Z"
    },
    "papermill": {
     "duration": 0.017321,
     "end_time": "2025-05-30T16:12:13.651044",
     "exception": false,
     "start_time": "2025-05-30T16:12:13.633723",
     "status": "completed"
    },
    "tags": []
   },
   "outputs": [
    {
     "data": {
      "text/html": [
       "<div><style>\n",
       ".dataframe > thead > tr,\n",
       ".dataframe > tbody > tr {\n",
       "  text-align: right;\n",
       "  white-space: pre-wrap;\n",
       "}\n",
       "</style>\n",
       "<small>shape: (10_707_580, 2)</small><table border=\"1\" class=\"dataframe\"><thead><tr><th>timestamp</th><th>client_id</th></tr><tr><td>datetime[μs]</td><td>i64</td></tr></thead><tbody><tr><td>2022-09-28 14:18:25</td><td>12330301</td></tr><tr><td>2022-08-07 15:01:59</td><td>3057263</td></tr><tr><td>2022-08-14 21:38:25</td><td>13237727</td></tr><tr><td>2022-08-02 21:58:45</td><td>5333647</td></tr><tr><td>2022-06-05 19:22:50</td><td>5118172</td></tr><tr><td>&hellip;</td><td>&hellip;</td></tr><tr><td>2022-08-26 17:39:25</td><td>4406844</td></tr><tr><td>2022-07-05 10:13:20</td><td>13690544</td></tr><tr><td>2022-08-27 09:54:50</td><td>15096188</td></tr><tr><td>2022-08-12 17:30:50</td><td>15971146</td></tr><tr><td>2022-07-13 05:28:05</td><td>17940539</td></tr></tbody></table></div>"
      ],
      "text/plain": [
       "shape: (10_707_580, 2)\n",
       "┌─────────────────────┬───────────┐\n",
       "│ timestamp           ┆ client_id │\n",
       "│ ---                 ┆ ---       │\n",
       "│ datetime[μs]        ┆ i64       │\n",
       "╞═════════════════════╪═══════════╡\n",
       "│ 2022-09-28 14:18:25 ┆ 12330301  │\n",
       "│ 2022-08-07 15:01:59 ┆ 3057263   │\n",
       "│ 2022-08-14 21:38:25 ┆ 13237727  │\n",
       "│ 2022-08-02 21:58:45 ┆ 5333647   │\n",
       "│ 2022-06-05 19:22:50 ┆ 5118172   │\n",
       "│ …                   ┆ …         │\n",
       "│ 2022-08-26 17:39:25 ┆ 4406844   │\n",
       "│ 2022-07-05 10:13:20 ┆ 13690544  │\n",
       "│ 2022-08-27 09:54:50 ┆ 15096188  │\n",
       "│ 2022-08-12 17:30:50 ┆ 15971146  │\n",
       "│ 2022-07-13 05:28:05 ┆ 17940539  │\n",
       "└─────────────────────┴───────────┘"
      ]
     },
     "execution_count": 5,
     "metadata": {},
     "output_type": "execute_result"
    }
   ],
   "source": [
    "all_events=pl.concat([search_query[[\"timestamp\",\"client_id\"]],products[[\"timestamp\",\"client_id\"]],page_visit[[\"timestamp\",\"client_id\"]]])\n",
    "all_events"
   ]
  },
  {
   "cell_type": "code",
   "execution_count": 6,
   "id": "5ad43486",
   "metadata": {
    "execution": {
     "iopub.execute_input": "2025-05-30T16:12:13.661159Z",
     "iopub.status.busy": "2025-05-30T16:12:13.660489Z",
     "iopub.status.idle": "2025-05-30T16:12:16.960013Z",
     "shell.execute_reply": "2025-05-30T16:12:16.959138Z"
    },
    "papermill": {
     "duration": 3.305863,
     "end_time": "2025-05-30T16:12:16.961336",
     "exception": false,
     "start_time": "2025-05-30T16:12:13.655473",
     "status": "completed"
    },
    "tags": []
   },
   "outputs": [
    {
     "name": "stderr",
     "output_type": "stream",
     "text": [
      "/tmp/ipykernel_19/660922097.py:10: DeprecationWarning: `pl.count()` is deprecated. Please use `pl.len()` instead.\n",
      "  .agg(pl.count().alias(\"event_count\"))\n",
      "/tmp/ipykernel_19/660922097.py:26: DeprecationWarning: The argument `columns` for `DataFrame.pivot` is deprecated. It has been renamed to `on`.\n",
      "  .pivot(\n"
     ]
    },
    {
     "data": {
      "text/html": [
       "<div><style>\n",
       ".dataframe > thead > tr,\n",
       ".dataframe > tbody > tr {\n",
       "  text-align: right;\n",
       "  white-space: pre-wrap;\n",
       "}\n",
       "</style>\n",
       "<small>shape: (1_000_000, 22)</small><table border=\"1\" class=\"dataframe\"><thead><tr><th>client_id</th><th>41</th><th>40</th><th>39</th><th>38</th><th>37</th><th>36</th><th>35</th><th>34</th><th>33</th><th>32</th><th>31</th><th>30</th><th>29</th><th>28</th><th>27</th><th>26</th><th>25</th><th>24</th><th>23</th><th>22</th><th>21</th></tr><tr><td>i64</td><td>u32</td><td>u32</td><td>u32</td><td>u32</td><td>u32</td><td>u32</td><td>u32</td><td>u32</td><td>u32</td><td>u32</td><td>u32</td><td>u32</td><td>u32</td><td>u32</td><td>u32</td><td>u32</td><td>u32</td><td>u32</td><td>u32</td><td>u32</td><td>u32</td></tr></thead><tbody><tr><td>16760534</td><td>0</td><td>5</td><td>0</td><td>0</td><td>0</td><td>11</td><td>1</td><td>0</td><td>0</td><td>0</td><td>0</td><td>0</td><td>0</td><td>0</td><td>0</td><td>0</td><td>0</td><td>1</td><td>0</td><td>0</td><td>0</td></tr><tr><td>8803232</td><td>0</td><td>0</td><td>0</td><td>0</td><td>0</td><td>0</td><td>0</td><td>0</td><td>0</td><td>0</td><td>0</td><td>1</td><td>0</td><td>0</td><td>0</td><td>0</td><td>1</td><td>0</td><td>0</td><td>1</td><td>3</td></tr><tr><td>17355724</td><td>0</td><td>1</td><td>0</td><td>0</td><td>0</td><td>0</td><td>0</td><td>0</td><td>0</td><td>0</td><td>0</td><td>0</td><td>0</td><td>0</td><td>2</td><td>9</td><td>1</td><td>2</td><td>0</td><td>0</td><td>0</td></tr><tr><td>13383308</td><td>0</td><td>0</td><td>0</td><td>7</td><td>3</td><td>2</td><td>0</td><td>0</td><td>0</td><td>0</td><td>0</td><td>2</td><td>0</td><td>0</td><td>0</td><td>0</td><td>0</td><td>0</td><td>0</td><td>0</td><td>0</td></tr><tr><td>5474656</td><td>0</td><td>0</td><td>0</td><td>0</td><td>1</td><td>0</td><td>0</td><td>0</td><td>0</td><td>0</td><td>0</td><td>0</td><td>0</td><td>0</td><td>0</td><td>0</td><td>0</td><td>0</td><td>0</td><td>0</td><td>0</td></tr><tr><td>&hellip;</td><td>&hellip;</td><td>&hellip;</td><td>&hellip;</td><td>&hellip;</td><td>&hellip;</td><td>&hellip;</td><td>&hellip;</td><td>&hellip;</td><td>&hellip;</td><td>&hellip;</td><td>&hellip;</td><td>&hellip;</td><td>&hellip;</td><td>&hellip;</td><td>&hellip;</td><td>&hellip;</td><td>&hellip;</td><td>&hellip;</td><td>&hellip;</td><td>&hellip;</td><td>&hellip;</td></tr><tr><td>817379</td><td>0</td><td>0</td><td>5</td><td>0</td><td>0</td><td>0</td><td>0</td><td>0</td><td>0</td><td>0</td><td>0</td><td>0</td><td>0</td><td>0</td><td>0</td><td>0</td><td>0</td><td>0</td><td>0</td><td>0</td><td>0</td></tr><tr><td>17796368</td><td>0</td><td>0</td><td>0</td><td>3</td><td>0</td><td>0</td><td>0</td><td>0</td><td>0</td><td>0</td><td>0</td><td>0</td><td>0</td><td>0</td><td>0</td><td>0</td><td>0</td><td>0</td><td>0</td><td>0</td><td>0</td></tr><tr><td>22004699</td><td>0</td><td>0</td><td>0</td><td>0</td><td>0</td><td>0</td><td>0</td><td>0</td><td>0</td><td>0</td><td>0</td><td>0</td><td>0</td><td>2</td><td>0</td><td>0</td><td>0</td><td>0</td><td>0</td><td>0</td><td>0</td></tr><tr><td>18121574</td><td>0</td><td>0</td><td>0</td><td>0</td><td>0</td><td>0</td><td>0</td><td>0</td><td>0</td><td>0</td><td>0</td><td>0</td><td>0</td><td>0</td><td>0</td><td>0</td><td>0</td><td>2</td><td>0</td><td>0</td><td>0</td></tr><tr><td>12010079</td><td>0</td><td>0</td><td>0</td><td>0</td><td>0</td><td>0</td><td>0</td><td>3</td><td>0</td><td>0</td><td>0</td><td>0</td><td>0</td><td>0</td><td>0</td><td>0</td><td>0</td><td>0</td><td>0</td><td>0</td><td>0</td></tr></tbody></table></div>"
      ],
      "text/plain": [
       "shape: (1_000_000, 22)\n",
       "┌───────────┬─────┬─────┬─────┬───┬─────┬─────┬─────┬─────┐\n",
       "│ client_id ┆ 41  ┆ 40  ┆ 39  ┆ … ┆ 24  ┆ 23  ┆ 22  ┆ 21  │\n",
       "│ ---       ┆ --- ┆ --- ┆ --- ┆   ┆ --- ┆ --- ┆ --- ┆ --- │\n",
       "│ i64       ┆ u32 ┆ u32 ┆ u32 ┆   ┆ u32 ┆ u32 ┆ u32 ┆ u32 │\n",
       "╞═══════════╪═════╪═════╪═════╪═══╪═════╪═════╪═════╪═════╡\n",
       "│ 16760534  ┆ 0   ┆ 5   ┆ 0   ┆ … ┆ 1   ┆ 0   ┆ 0   ┆ 0   │\n",
       "│ 8803232   ┆ 0   ┆ 0   ┆ 0   ┆ … ┆ 0   ┆ 0   ┆ 1   ┆ 3   │\n",
       "│ 17355724  ┆ 0   ┆ 1   ┆ 0   ┆ … ┆ 2   ┆ 0   ┆ 0   ┆ 0   │\n",
       "│ 13383308  ┆ 0   ┆ 0   ┆ 0   ┆ … ┆ 0   ┆ 0   ┆ 0   ┆ 0   │\n",
       "│ 5474656   ┆ 0   ┆ 0   ┆ 0   ┆ … ┆ 0   ┆ 0   ┆ 0   ┆ 0   │\n",
       "│ …         ┆ …   ┆ …   ┆ …   ┆ … ┆ …   ┆ …   ┆ …   ┆ …   │\n",
       "│ 817379    ┆ 0   ┆ 0   ┆ 5   ┆ … ┆ 0   ┆ 0   ┆ 0   ┆ 0   │\n",
       "│ 17796368  ┆ 0   ┆ 0   ┆ 0   ┆ … ┆ 0   ┆ 0   ┆ 0   ┆ 0   │\n",
       "│ 22004699  ┆ 0   ┆ 0   ┆ 0   ┆ … ┆ 0   ┆ 0   ┆ 0   ┆ 0   │\n",
       "│ 18121574  ┆ 0   ┆ 0   ┆ 0   ┆ … ┆ 2   ┆ 0   ┆ 0   ┆ 0   │\n",
       "│ 12010079  ┆ 0   ┆ 0   ┆ 0   ┆ … ┆ 0   ┆ 0   ┆ 0   ┆ 0   │\n",
       "└───────────┴─────┴─────┴─────┴───┴─────┴─────┴─────┴─────┘"
      ]
     },
     "execution_count": 6,
     "metadata": {},
     "output_type": "execute_result"
    }
   ],
   "source": [
    "all_events = all_events.with_columns([\n",
    "    pl.col(\"timestamp\").dt.week().alias(\"week\")\n",
    "])\n",
    "weekly_counts = (\n",
    "    all_events\n",
    "    .group_by([\"client_id\", \"week\"])\n",
    "    .agg(pl.count().alias(\"event_count\"))\n",
    ")\n",
    "weeks_sorted = (\n",
    "    weekly_counts\n",
    "    .select(\"week\")\n",
    "    .unique()\n",
    "    .sort(\"week\", descending=True)\n",
    "    .get_column(\"week\")\n",
    "    .to_list()\n",
    ")\n",
    "slope_df = (\n",
    "    weekly_counts\n",
    "    .pivot(\n",
    "        values=\"event_count\",\n",
    "        index=\"client_id\",\n",
    "        columns=\"week\",\n",
    "        aggregate_function=\"first\"\n",
    "    )\n",
    "    .fill_null(0)\n",
    "    .select([\"client_id\"] + [str(w) for w in weeks_sorted])  \n",
    ")\n",
    "slope_df"
   ]
  },
  {
   "cell_type": "code",
   "execution_count": 7,
   "id": "f84858ab",
   "metadata": {
    "execution": {
     "iopub.execute_input": "2025-05-30T16:12:16.972005Z",
     "iopub.status.busy": "2025-05-30T16:12:16.971698Z",
     "iopub.status.idle": "2025-05-30T16:12:16.977129Z",
     "shell.execute_reply": "2025-05-30T16:12:16.976368Z"
    },
    "papermill": {
     "duration": 0.012036,
     "end_time": "2025-05-30T16:12:16.978387",
     "exception": false,
     "start_time": "2025-05-30T16:12:16.966351",
     "status": "completed"
    },
    "tags": []
   },
   "outputs": [
    {
     "data": {
      "text/plain": [
       "['client_id',\n",
       " '41',\n",
       " '40',\n",
       " '39',\n",
       " '38',\n",
       " '37',\n",
       " '36',\n",
       " '35',\n",
       " '34',\n",
       " '33',\n",
       " '32',\n",
       " '31',\n",
       " '30',\n",
       " '29',\n",
       " '28',\n",
       " '27',\n",
       " '26',\n",
       " '25',\n",
       " '24',\n",
       " '23',\n",
       " '22',\n",
       " '21']"
      ]
     },
     "execution_count": 7,
     "metadata": {},
     "output_type": "execute_result"
    }
   ],
   "source": "slope_df.columns"
  },
  {
   "cell_type": "code",
   "execution_count": 8,
   "id": "a7ed19ce",
   "metadata": {
    "execution": {
     "iopub.execute_input": "2025-05-30T16:12:16.989185Z",
     "iopub.status.busy": "2025-05-30T16:12:16.988860Z",
     "iopub.status.idle": "2025-05-30T16:12:16.993026Z",
     "shell.execute_reply": "2025-05-30T16:12:16.992286Z"
    },
    "papermill": {
     "duration": 0.011237,
     "end_time": "2025-05-30T16:12:16.994527",
     "exception": false,
     "start_time": "2025-05-30T16:12:16.983290",
     "status": "completed"
    },
    "tags": []
   },
   "outputs": [],
   "source": [
    "slope_columns=[ '41','40','39','38','37','36','35','34','33','32','31',\n",
    " '30','29','28','27','26','25','24','23','22','21']"
   ]
  },
  {
   "cell_type": "code",
   "execution_count": 9,
   "id": "33098ff5",
   "metadata": {
    "execution": {
     "iopub.execute_input": "2025-05-30T16:12:17.005279Z",
     "iopub.status.busy": "2025-05-30T16:12:17.005042Z",
     "iopub.status.idle": "2025-05-30T16:12:17.008535Z",
     "shell.execute_reply": "2025-05-30T16:12:17.007790Z"
    },
    "papermill": {
     "duration": 0.010371,
     "end_time": "2025-05-30T16:12:17.009828",
     "exception": false,
     "start_time": "2025-05-30T16:12:16.999457",
     "status": "completed"
    },
    "tags": []
   },
   "outputs": [],
   "source": [
    "#max_value = pivot_df.drop(\"client_id\").max()\n",
    "#max_value=1180"
   ]
  },
  {
   "cell_type": "code",
   "execution_count": 10,
   "id": "7cc3d6dd",
   "metadata": {
    "execution": {
     "iopub.execute_input": "2025-05-30T16:12:17.020973Z",
     "iopub.status.busy": "2025-05-30T16:12:17.020674Z",
     "iopub.status.idle": "2025-05-30T16:12:17.141916Z",
     "shell.execute_reply": "2025-05-30T16:12:17.141069Z"
    },
    "papermill": {
     "duration": 0.128174,
     "end_time": "2025-05-30T16:12:17.143321",
     "exception": false,
     "start_time": "2025-05-30T16:12:17.015147",
     "status": "completed"
    },
    "tags": []
   },
   "outputs": [
    {
     "data": {
      "text/html": [
       "<div><style>\n",
       ".dataframe > thead > tr,\n",
       ".dataframe > tbody > tr {\n",
       "  text-align: right;\n",
       "  white-space: pre-wrap;\n",
       "}\n",
       "</style>\n",
       "<small>shape: (1_000_000, 22)</small><table border=\"1\" class=\"dataframe\"><thead><tr><th>client_id</th><th>41</th><th>40</th><th>39</th><th>38</th><th>37</th><th>36</th><th>35</th><th>34</th><th>33</th><th>32</th><th>31</th><th>30</th><th>29</th><th>28</th><th>27</th><th>26</th><th>25</th><th>24</th><th>23</th><th>22</th><th>21</th></tr><tr><td>i64</td><td>f64</td><td>f64</td><td>f64</td><td>f64</td><td>f64</td><td>f64</td><td>f64</td><td>f64</td><td>f64</td><td>f64</td><td>f64</td><td>f64</td><td>f64</td><td>f64</td><td>f64</td><td>f64</td><td>f64</td><td>f64</td><td>f64</td><td>f64</td><td>f64</td></tr></thead><tbody><tr><td>16760534</td><td>0.0</td><td>0.008333</td><td>0.0</td><td>0.0</td><td>0.0</td><td>0.018333</td><td>0.001667</td><td>0.0</td><td>0.0</td><td>0.0</td><td>0.0</td><td>0.0</td><td>0.0</td><td>0.0</td><td>0.0</td><td>0.0</td><td>0.0</td><td>0.001667</td><td>0.0</td><td>0.0</td><td>0.0</td></tr><tr><td>8803232</td><td>0.0</td><td>0.0</td><td>0.0</td><td>0.0</td><td>0.0</td><td>0.0</td><td>0.0</td><td>0.0</td><td>0.0</td><td>0.0</td><td>0.0</td><td>0.001667</td><td>0.0</td><td>0.0</td><td>0.0</td><td>0.0</td><td>0.001667</td><td>0.0</td><td>0.0</td><td>0.001667</td><td>0.005</td></tr><tr><td>17355724</td><td>0.0</td><td>0.001667</td><td>0.0</td><td>0.0</td><td>0.0</td><td>0.0</td><td>0.0</td><td>0.0</td><td>0.0</td><td>0.0</td><td>0.0</td><td>0.0</td><td>0.0</td><td>0.0</td><td>0.003333</td><td>0.015</td><td>0.001667</td><td>0.003333</td><td>0.0</td><td>0.0</td><td>0.0</td></tr><tr><td>13383308</td><td>0.0</td><td>0.0</td><td>0.0</td><td>0.011667</td><td>0.005</td><td>0.003333</td><td>0.0</td><td>0.0</td><td>0.0</td><td>0.0</td><td>0.0</td><td>0.003333</td><td>0.0</td><td>0.0</td><td>0.0</td><td>0.0</td><td>0.0</td><td>0.0</td><td>0.0</td><td>0.0</td><td>0.0</td></tr><tr><td>5474656</td><td>0.0</td><td>0.0</td><td>0.0</td><td>0.0</td><td>0.001667</td><td>0.0</td><td>0.0</td><td>0.0</td><td>0.0</td><td>0.0</td><td>0.0</td><td>0.0</td><td>0.0</td><td>0.0</td><td>0.0</td><td>0.0</td><td>0.0</td><td>0.0</td><td>0.0</td><td>0.0</td><td>0.0</td></tr><tr><td>&hellip;</td><td>&hellip;</td><td>&hellip;</td><td>&hellip;</td><td>&hellip;</td><td>&hellip;</td><td>&hellip;</td><td>&hellip;</td><td>&hellip;</td><td>&hellip;</td><td>&hellip;</td><td>&hellip;</td><td>&hellip;</td><td>&hellip;</td><td>&hellip;</td><td>&hellip;</td><td>&hellip;</td><td>&hellip;</td><td>&hellip;</td><td>&hellip;</td><td>&hellip;</td><td>&hellip;</td></tr><tr><td>817379</td><td>0.0</td><td>0.0</td><td>0.008333</td><td>0.0</td><td>0.0</td><td>0.0</td><td>0.0</td><td>0.0</td><td>0.0</td><td>0.0</td><td>0.0</td><td>0.0</td><td>0.0</td><td>0.0</td><td>0.0</td><td>0.0</td><td>0.0</td><td>0.0</td><td>0.0</td><td>0.0</td><td>0.0</td></tr><tr><td>17796368</td><td>0.0</td><td>0.0</td><td>0.0</td><td>0.005</td><td>0.0</td><td>0.0</td><td>0.0</td><td>0.0</td><td>0.0</td><td>0.0</td><td>0.0</td><td>0.0</td><td>0.0</td><td>0.0</td><td>0.0</td><td>0.0</td><td>0.0</td><td>0.0</td><td>0.0</td><td>0.0</td><td>0.0</td></tr><tr><td>22004699</td><td>0.0</td><td>0.0</td><td>0.0</td><td>0.0</td><td>0.0</td><td>0.0</td><td>0.0</td><td>0.0</td><td>0.0</td><td>0.0</td><td>0.0</td><td>0.0</td><td>0.0</td><td>0.003333</td><td>0.0</td><td>0.0</td><td>0.0</td><td>0.0</td><td>0.0</td><td>0.0</td><td>0.0</td></tr><tr><td>18121574</td><td>0.0</td><td>0.0</td><td>0.0</td><td>0.0</td><td>0.0</td><td>0.0</td><td>0.0</td><td>0.0</td><td>0.0</td><td>0.0</td><td>0.0</td><td>0.0</td><td>0.0</td><td>0.0</td><td>0.0</td><td>0.0</td><td>0.0</td><td>0.003333</td><td>0.0</td><td>0.0</td><td>0.0</td></tr><tr><td>12010079</td><td>0.0</td><td>0.0</td><td>0.0</td><td>0.0</td><td>0.0</td><td>0.0</td><td>0.0</td><td>0.005</td><td>0.0</td><td>0.0</td><td>0.0</td><td>0.0</td><td>0.0</td><td>0.0</td><td>0.0</td><td>0.0</td><td>0.0</td><td>0.0</td><td>0.0</td><td>0.0</td><td>0.0</td></tr></tbody></table></div>"
      ],
      "text/plain": [
       "shape: (1_000_000, 22)\n",
       "┌───────────┬─────┬──────────┬──────────┬───┬──────────┬─────┬──────────┬───────┐\n",
       "│ client_id ┆ 41  ┆ 40       ┆ 39       ┆ … ┆ 24       ┆ 23  ┆ 22       ┆ 21    │\n",
       "│ ---       ┆ --- ┆ ---      ┆ ---      ┆   ┆ ---      ┆ --- ┆ ---      ┆ ---   │\n",
       "│ i64       ┆ f64 ┆ f64      ┆ f64      ┆   ┆ f64      ┆ f64 ┆ f64      ┆ f64   │\n",
       "╞═══════════╪═════╪══════════╪══════════╪═══╪══════════╪═════╪══════════╪═══════╡\n",
       "│ 16760534  ┆ 0.0 ┆ 0.008333 ┆ 0.0      ┆ … ┆ 0.001667 ┆ 0.0 ┆ 0.0      ┆ 0.0   │\n",
       "│ 8803232   ┆ 0.0 ┆ 0.0      ┆ 0.0      ┆ … ┆ 0.0      ┆ 0.0 ┆ 0.001667 ┆ 0.005 │\n",
       "│ 17355724  ┆ 0.0 ┆ 0.001667 ┆ 0.0      ┆ … ┆ 0.003333 ┆ 0.0 ┆ 0.0      ┆ 0.0   │\n",
       "│ 13383308  ┆ 0.0 ┆ 0.0      ┆ 0.0      ┆ … ┆ 0.0      ┆ 0.0 ┆ 0.0      ┆ 0.0   │\n",
       "│ 5474656   ┆ 0.0 ┆ 0.0      ┆ 0.0      ┆ … ┆ 0.0      ┆ 0.0 ┆ 0.0      ┆ 0.0   │\n",
       "│ …         ┆ …   ┆ …        ┆ …        ┆ … ┆ …        ┆ …   ┆ …        ┆ …     │\n",
       "│ 817379    ┆ 0.0 ┆ 0.0      ┆ 0.008333 ┆ … ┆ 0.0      ┆ 0.0 ┆ 0.0      ┆ 0.0   │\n",
       "│ 17796368  ┆ 0.0 ┆ 0.0      ┆ 0.0      ┆ … ┆ 0.0      ┆ 0.0 ┆ 0.0      ┆ 0.0   │\n",
       "│ 22004699  ┆ 0.0 ┆ 0.0      ┆ 0.0      ┆ … ┆ 0.0      ┆ 0.0 ┆ 0.0      ┆ 0.0   │\n",
       "│ 18121574  ┆ 0.0 ┆ 0.0      ┆ 0.0      ┆ … ┆ 0.003333 ┆ 0.0 ┆ 0.0      ┆ 0.0   │\n",
       "│ 12010079  ┆ 0.0 ┆ 0.0      ┆ 0.0      ┆ … ┆ 0.0      ┆ 0.0 ┆ 0.0      ┆ 0.0   │\n",
       "└───────────┴─────┴──────────┴──────────┴───┴──────────┴─────┴──────────┴───────┘"
      ]
     },
     "execution_count": 10,
     "metadata": {},
     "output_type": "execute_result"
    }
   ],
   "source": [
    "max_val = 600 #\"mean\"\n",
    "\n",
    "slope_df = slope_df.with_columns([\n",
    "    pl.when(pl.col(col) / max_val > 1)\n",
    "      .then(1.0)\n",
    "      .otherwise(pl.col(col) / max_val)\n",
    "      .alias(col)\n",
    "    for col in slope_df.columns if col != \"client_id\"\n",
    "])\n",
    "\n",
    "slope_df\n",
    "\n",
    "    "
   ]
  },
  {
   "cell_type": "code",
   "execution_count": 11,
   "id": "de8cc79e",
   "metadata": {
    "execution": {
     "iopub.execute_input": "2025-05-30T16:12:17.155053Z",
     "iopub.status.busy": "2025-05-30T16:12:17.154283Z",
     "iopub.status.idle": "2025-05-30T16:12:18.082087Z",
     "shell.execute_reply": "2025-05-30T16:12:18.081304Z"
    },
    "papermill": {
     "duration": 0.935102,
     "end_time": "2025-05-30T16:12:18.083572",
     "exception": false,
     "start_time": "2025-05-30T16:12:17.148470",
     "status": "completed"
    },
    "tags": []
   },
   "outputs": [
    {
     "data": {
      "text/html": [
       "<div><style>\n",
       ".dataframe > thead > tr,\n",
       ".dataframe > tbody > tr {\n",
       "  text-align: right;\n",
       "  white-space: pre-wrap;\n",
       "}\n",
       "</style>\n",
       "<small>shape: (4_778_420, 34)</small><table border=\"1\" class=\"dataframe\"><thead><tr><th>client_id</th><th>url</th><th>timestamp</th><th>time_diff</th><th>num_events_nearby</th><th>has_top_sku</th><th>has_top_category</th><th>count</th><th>client_total_visits</th><th>client_url_visits</th><th>url_entropy</th><th>client_entropy</th><th>event_type</th><th>41</th><th>40</th><th>39</th><th>38</th><th>37</th><th>36</th><th>35</th><th>34</th><th>33</th><th>32</th><th>31</th><th>30</th><th>29</th><th>28</th><th>27</th><th>26</th><th>25</th><th>24</th><th>23</th><th>22</th><th>21</th></tr><tr><td>i64</td><td>i64</td><td>datetime[μs]</td><td>f64</td><td>f64</td><td>i8</td><td>i8</td><td>f64</td><td>f64</td><td>f64</td><td>f64</td><td>f64</td><td>str</td><td>f64</td><td>f64</td><td>f64</td><td>f64</td><td>f64</td><td>f64</td><td>f64</td><td>f64</td><td>f64</td><td>f64</td><td>f64</td><td>f64</td><td>f64</td><td>f64</td><td>f64</td><td>f64</td><td>f64</td><td>f64</td><td>f64</td><td>f64</td><td>f64</td></tr></thead><tbody><tr><td>6618901</td><td>9035436</td><td>2022-05-23 14:25:40</td><td>0.0</td><td>0.0</td><td>0</td><td>0</td><td>0.000418</td><td>0.002448</td><td>0.000408</td><td>0.277803</td><td>0.188063</td><td>&quot;page_visit&quot;</td><td>0.005</td><td>0.003333</td><td>0.0</td><td>0.0</td><td>0.0</td><td>0.0</td><td>0.0</td><td>0.0</td><td>0.0</td><td>0.001667</td><td>0.006667</td><td>0.011667</td><td>0.003333</td><td>0.0</td><td>0.0</td><td>0.001667</td><td>0.0</td><td>0.003333</td><td>0.0</td><td>0.001667</td><td>0.001667</td></tr><tr><td>19556422</td><td>11166810</td><td>2022-07-05 20:05:10</td><td>0.0</td><td>0.0</td><td>0</td><td>0</td><td>0.000218</td><td>0.000306</td><td>0.000408</td><td>0.274273</td><td>0.099317</td><td>&quot;page_visit&quot;</td><td>0.0</td><td>0.0</td><td>0.0</td><td>0.0</td><td>0.0</td><td>0.0</td><td>0.0</td><td>0.003333</td><td>0.0</td><td>0.0</td><td>0.001667</td><td>0.0</td><td>0.0</td><td>0.001667</td><td>0.001667</td><td>0.0</td><td>0.0</td><td>0.0</td><td>0.0</td><td>0.0</td><td>0.0</td></tr><tr><td>18487096</td><td>1358283</td><td>2022-06-02 00:34:45</td><td>0.0</td><td>0.0</td><td>0</td><td>0</td><td>0.000003</td><td>0.003934</td><td>0.001224</td><td>0.046867</td><td>0.185001</td><td>&quot;page_visit&quot;</td><td>0.0</td><td>0.0</td><td>0.0</td><td>0.0</td><td>0.0</td><td>0.0</td><td>0.0</td><td>0.0</td><td>0.0</td><td>0.0</td><td>0.0</td><td>0.0</td><td>0.001667</td><td>0.0</td><td>0.008333</td><td>0.005</td><td>0.006667</td><td>0.0</td><td>0.011667</td><td>0.006667</td><td>0.001667</td></tr><tr><td>11724747</td><td>3532849</td><td>2022-06-07 14:04:20</td><td>0.0</td><td>0.0</td><td>0</td><td>0</td><td>5.3219e-7</td><td>0.003715</td><td>0.000408</td><td>0.051037</td><td>0.128365</td><td>&quot;page_visit&quot;</td><td>0.0</td><td>0.01</td><td>0.0</td><td>0.01</td><td>0.0</td><td>0.0</td><td>0.0</td><td>0.0</td><td>0.0</td><td>0.0</td><td>0.0</td><td>0.0</td><td>0.0</td><td>0.0</td><td>0.0</td><td>0.0</td><td>0.0</td><td>0.0</td><td>0.003333</td><td>0.005</td><td>0.0</td></tr><tr><td>13403806</td><td>12569448</td><td>2022-06-19 12:33:25</td><td>0.033333</td><td>0.0</td><td>0</td><td>0</td><td>0.000002</td><td>0.001792</td><td>0.001633</td><td>7.3556e-8</td><td>0.15503</td><td>&quot;page_visit&quot;</td><td>0.0</td><td>0.0</td><td>0.0</td><td>0.0</td><td>0.0</td><td>0.0</td><td>0.0</td><td>0.001667</td><td>0.0</td><td>0.0</td><td>0.003333</td><td>0.001667</td><td>0.01</td><td>0.001667</td><td>0.0</td><td>0.0</td><td>0.0</td><td>0.001667</td><td>0.0</td><td>0.0</td><td>0.0</td></tr><tr><td>&hellip;</td><td>&hellip;</td><td>&hellip;</td><td>&hellip;</td><td>&hellip;</td><td>&hellip;</td><td>&hellip;</td><td>&hellip;</td><td>&hellip;</td><td>&hellip;</td><td>&hellip;</td><td>&hellip;</td><td>&hellip;</td><td>&hellip;</td><td>&hellip;</td><td>&hellip;</td><td>&hellip;</td><td>&hellip;</td><td>&hellip;</td><td>&hellip;</td><td>&hellip;</td><td>&hellip;</td><td>&hellip;</td><td>&hellip;</td><td>&hellip;</td><td>&hellip;</td><td>&hellip;</td><td>&hellip;</td><td>&hellip;</td><td>&hellip;</td><td>&hellip;</td><td>&hellip;</td><td>&hellip;</td><td>&hellip;</td></tr><tr><td>4406844</td><td>6152852</td><td>2022-08-26 17:39:25</td><td>0.445833</td><td>0.003636</td><td>0</td><td>1</td><td>8.8699e-7</td><td>0.000656</td><td>0.002041</td><td>7.3556e-8</td><td>0.049658</td><td>&quot;page_visit&quot;</td><td>0.0</td><td>0.0</td><td>0.0</td><td>0.0</td><td>0.0</td><td>0.0</td><td>0.001667</td><td>0.005</td><td>0.0</td><td>0.0</td><td>0.0</td><td>0.0</td><td>0.0</td><td>0.0</td><td>0.0</td><td>0.0</td><td>0.0</td><td>0.0</td><td>0.0</td><td>0.0</td><td>0.0</td></tr><tr><td>13690544</td><td>13223803</td><td>2022-07-05 10:13:20</td><td>0.0</td><td>0.0</td><td>0</td><td>0</td><td>0.000528</td><td>0.000175</td><td>0.000408</td><td>0.338355</td><td>0.099317</td><td>&quot;page_visit&quot;</td><td>0.0</td><td>0.001667</td><td>0.0</td><td>0.0</td><td>0.0</td><td>0.0</td><td>0.0</td><td>0.0</td><td>0.0</td><td>0.0</td><td>0.0</td><td>0.0</td><td>0.0</td><td>0.0</td><td>0.003333</td><td>0.001667</td><td>0.0</td><td>0.0</td><td>0.0</td><td>0.0</td><td>0.0</td></tr><tr><td>15096188</td><td>7823386</td><td>2022-08-27 09:54:50</td><td>0.0</td><td>0.0</td><td>0</td><td>0</td><td>0.000098</td><td>0.000743</td><td>0.000408</td><td>0.249034</td><td>0.146378</td><td>&quot;page_visit&quot;</td><td>0.0</td><td>0.0</td><td>0.003333</td><td>0.0</td><td>0.0</td><td>0.001667</td><td>0.003333</td><td>0.011667</td><td>0.0</td><td>0.0</td><td>0.0</td><td>0.0</td><td>0.0</td><td>0.0</td><td>0.0</td><td>0.0</td><td>0.0</td><td>0.0</td><td>0.0</td><td>0.0</td><td>0.0</td></tr><tr><td>15971146</td><td>14768819</td><td>2022-08-12 17:30:50</td><td>0.035417</td><td>0.001818</td><td>0</td><td>1</td><td>0.000871</td><td>0.000306</td><td>0.001224</td><td>0.383517</td><td>0.049658</td><td>&quot;page_visit&quot;</td><td>0.0</td><td>0.0</td><td>0.0</td><td>0.0</td><td>0.0</td><td>0.0</td><td>0.0</td><td>0.0</td><td>0.0</td><td>0.003333</td><td>0.001667</td><td>0.0</td><td>0.0</td><td>0.0</td><td>0.0</td><td>0.0</td><td>0.0</td><td>0.0</td><td>0.0</td><td>0.0</td><td>0.0</td></tr><tr><td>17940539</td><td>3865684</td><td>2022-07-13 05:28:05</td><td>0.039583</td><td>0.0</td><td>0</td><td>0</td><td>0.000151</td><td>0.002317</td><td>0.000816</td><td>0.291492</td><td>0.162761</td><td>&quot;page_visit&quot;</td><td>0.0</td><td>0.0</td><td>0.0</td><td>0.0</td><td>0.0</td><td>0.0</td><td>0.0</td><td>0.0</td><td>0.0</td><td>0.0</td><td>0.0</td><td>0.0</td><td>0.0</td><td>0.021667</td><td>0.001667</td><td>0.0</td><td>0.0</td><td>0.0</td><td>0.0</td><td>0.0</td><td>0.0</td></tr></tbody></table></div>"
      ],
      "text/plain": [
       "shape: (4_778_420, 34)\n",
       "┌───────────┬──────────┬───────────────┬───────────┬───┬──────────┬──────────┬──────────┬──────────┐\n",
       "│ client_id ┆ url      ┆ timestamp     ┆ time_diff ┆ … ┆ 24       ┆ 23       ┆ 22       ┆ 21       │\n",
       "│ ---       ┆ ---      ┆ ---           ┆ ---       ┆   ┆ ---      ┆ ---      ┆ ---      ┆ ---      │\n",
       "│ i64       ┆ i64      ┆ datetime[μs]  ┆ f64       ┆   ┆ f64      ┆ f64      ┆ f64      ┆ f64      │\n",
       "╞═══════════╪══════════╪═══════════════╪═══════════╪═══╪══════════╪══════════╪══════════╪══════════╡\n",
       "│ 6618901   ┆ 9035436  ┆ 2022-05-23    ┆ 0.0       ┆ … ┆ 0.003333 ┆ 0.0      ┆ 0.001667 ┆ 0.001667 │\n",
       "│           ┆          ┆ 14:25:40      ┆           ┆   ┆          ┆          ┆          ┆          │\n",
       "│ 19556422  ┆ 11166810 ┆ 2022-07-05    ┆ 0.0       ┆ … ┆ 0.0      ┆ 0.0      ┆ 0.0      ┆ 0.0      │\n",
       "│           ┆          ┆ 20:05:10      ┆           ┆   ┆          ┆          ┆          ┆          │\n",
       "│ 18487096  ┆ 1358283  ┆ 2022-06-02    ┆ 0.0       ┆ … ┆ 0.0      ┆ 0.011667 ┆ 0.006667 ┆ 0.001667 │\n",
       "│           ┆          ┆ 00:34:45      ┆           ┆   ┆          ┆          ┆          ┆          │\n",
       "│ 11724747  ┆ 3532849  ┆ 2022-06-07    ┆ 0.0       ┆ … ┆ 0.0      ┆ 0.003333 ┆ 0.005    ┆ 0.0      │\n",
       "│           ┆          ┆ 14:04:20      ┆           ┆   ┆          ┆          ┆          ┆          │\n",
       "│ 13403806  ┆ 12569448 ┆ 2022-06-19    ┆ 0.033333  ┆ … ┆ 0.001667 ┆ 0.0      ┆ 0.0      ┆ 0.0      │\n",
       "│           ┆          ┆ 12:33:25      ┆           ┆   ┆          ┆          ┆          ┆          │\n",
       "│ …         ┆ …        ┆ …             ┆ …         ┆ … ┆ …        ┆ …        ┆ …        ┆ …        │\n",
       "│ 4406844   ┆ 6152852  ┆ 2022-08-26    ┆ 0.445833  ┆ … ┆ 0.0      ┆ 0.0      ┆ 0.0      ┆ 0.0      │\n",
       "│           ┆          ┆ 17:39:25      ┆           ┆   ┆          ┆          ┆          ┆          │\n",
       "│ 13690544  ┆ 13223803 ┆ 2022-07-05    ┆ 0.0       ┆ … ┆ 0.0      ┆ 0.0      ┆ 0.0      ┆ 0.0      │\n",
       "│           ┆          ┆ 10:13:20      ┆           ┆   ┆          ┆          ┆          ┆          │\n",
       "│ 15096188  ┆ 7823386  ┆ 2022-08-27    ┆ 0.0       ┆ … ┆ 0.0      ┆ 0.0      ┆ 0.0      ┆ 0.0      │\n",
       "│           ┆          ┆ 09:54:50      ┆           ┆   ┆          ┆          ┆          ┆          │\n",
       "│ 15971146  ┆ 14768819 ┆ 2022-08-12    ┆ 0.035417  ┆ … ┆ 0.0      ┆ 0.0      ┆ 0.0      ┆ 0.0      │\n",
       "│           ┆          ┆ 17:30:50      ┆           ┆   ┆          ┆          ┆          ┆          │\n",
       "│ 17940539  ┆ 3865684  ┆ 2022-07-13    ┆ 0.039583  ┆ … ┆ 0.0      ┆ 0.0      ┆ 0.0      ┆ 0.0      │\n",
       "│           ┆          ┆ 05:28:05      ┆           ┆   ┆          ┆          ┆          ┆          │\n",
       "└───────────┴──────────┴───────────────┴───────────┴───┴──────────┴──────────┴──────────┴──────────┘"
      ]
     },
     "execution_count": 11,
     "metadata": {},
     "output_type": "execute_result"
    }
   ],
   "source": [
    "page_visit=page_visit.join(slope_df,on=\"client_id\",how=\"left\")\n",
    "page_visit"
   ]
  },
  {
   "cell_type": "code",
   "execution_count": 12,
   "id": "0dd7b25e",
   "metadata": {
    "execution": {
     "iopub.execute_input": "2025-05-30T16:12:18.096328Z",
     "iopub.status.busy": "2025-05-30T16:12:18.096048Z",
     "iopub.status.idle": "2025-05-30T16:12:18.104763Z",
     "shell.execute_reply": "2025-05-30T16:12:18.104200Z"
    },
    "papermill": {
     "duration": 0.016463,
     "end_time": "2025-05-30T16:12:18.105992",
     "exception": false,
     "start_time": "2025-05-30T16:12:18.089529",
     "status": "completed"
    },
    "tags": []
   },
   "outputs": [],
   "source": [
    "all_events=pl.concat([page_visit,search_query,products],how=\"diagonal\")"
   ]
  },
  {
   "cell_type": "code",
   "execution_count": 13,
   "id": "8711df24",
   "metadata": {
    "execution": {
     "iopub.execute_input": "2025-05-30T16:12:18.117023Z",
     "iopub.status.busy": "2025-05-30T16:12:18.116733Z",
     "iopub.status.idle": "2025-05-30T16:12:18.129533Z",
     "shell.execute_reply": "2025-05-30T16:12:18.128696Z"
    },
    "papermill": {
     "duration": 0.019784,
     "end_time": "2025-05-30T16:12:18.130887",
     "exception": false,
     "start_time": "2025-05-30T16:12:18.111103",
     "status": "completed"
    },
    "tags": []
   },
   "outputs": [
    {
     "data": {
      "text/plain": [
       "datetime.datetime(2022, 10, 10, 23, 59, 55)"
      ]
     },
     "execution_count": 13,
     "metadata": {},
     "output_type": "execute_result"
    }
   ],
   "source": [
    "all_events[\"timestamp\"].max()"
   ]
  },
  {
   "cell_type": "code",
   "execution_count": 14,
   "id": "79f5782f",
   "metadata": {
    "execution": {
     "iopub.execute_input": "2025-05-30T16:12:18.143542Z",
     "iopub.status.busy": "2025-05-30T16:12:18.142847Z",
     "iopub.status.idle": "2025-05-30T16:12:23.360801Z",
     "shell.execute_reply": "2025-05-30T16:12:23.359948Z"
    },
    "papermill": {
     "duration": 5.225738,
     "end_time": "2025-05-30T16:12:23.362482",
     "exception": false,
     "start_time": "2025-05-30T16:12:18.136744",
     "status": "completed"
    },
    "tags": []
   },
   "outputs": [],
   "source": [
    "from datetime import datetime\n",
    "test_start_date = datetime(2022, 10, 10)\n",
    "\n",
    "all_events= all_events.with_columns([\n",
    "    pl.col(\"timestamp\").dt.hour().alias(\"hour\"),\n",
    "    pl.col(\"timestamp\").dt.weekday().alias(\"weekday\"),\n",
    "    pl.col(\"timestamp\").dt.day().alias(\"day\"),\n",
    "    pl.col(\"timestamp\").dt.month().alias(\"month\"),\n",
    "\n",
    "    (pl.col(\"timestamp\").dt.hour() / 23).alias(\"hour_norm\"),\n",
    "\n",
    "    (pl.col(\"timestamp\").dt.weekday() / 6).alias(\"weekday_norm\"),\n",
    "\n",
    "    (pl.col(\"timestamp\").dt.day().cast(pl.Float64) / 31).alias(\"week_of_month_norm\"),\n",
    "\n",
    "    ((pl.lit(test_start_date) - pl.col(\"timestamp\"))\n",
    "     .dt.total_days() / 7.0).alias(\"weeks_diff\")\n",
    "])\n",
    "\n",
    "\n",
    "all_events = all_events.with_columns([\n",
    "    ((pl.lit(test_start_date) - pl.col(\"timestamp\"))\n",
    "     .dt.total_days() / 7).alias(\"weeks_since_test_start\")\n",
    "])"
   ]
  },
  {
   "cell_type": "code",
   "execution_count": 15,
   "id": "ec49f4f1",
   "metadata": {
    "execution": {
     "iopub.execute_input": "2025-05-30T16:12:23.375021Z",
     "iopub.status.busy": "2025-05-30T16:12:23.374497Z",
     "iopub.status.idle": "2025-05-30T16:12:23.378175Z",
     "shell.execute_reply": "2025-05-30T16:12:23.377373Z"
    },
    "papermill": {
     "duration": 0.011301,
     "end_time": "2025-05-30T16:12:23.379487",
     "exception": false,
     "start_time": "2025-05-30T16:12:23.368186",
     "status": "completed"
    },
    "tags": []
   },
   "outputs": [],
   "source": [
    "#all_events.lazy().sink_parquet(\"all_events_sub.parquet\")"
   ]
  },
  {
   "cell_type": "code",
   "execution_count": 16,
   "id": "414bd073",
   "metadata": {
    "execution": {
     "iopub.execute_input": "2025-05-30T16:12:23.391721Z",
     "iopub.status.busy": "2025-05-30T16:12:23.391439Z",
     "iopub.status.idle": "2025-05-30T16:12:28.075165Z",
     "shell.execute_reply": "2025-05-30T16:12:28.074332Z"
    },
    "papermill": {
     "duration": 4.691302,
     "end_time": "2025-05-30T16:12:28.076729",
     "exception": false,
     "start_time": "2025-05-30T16:12:23.385427",
     "status": "completed"
    },
    "tags": []
   },
   "outputs": [],
   "source": [
    "import math\n",
    "import torch\n",
    "import numpy as np\n",
    "import torch.nn.functional as F\n",
    "\n",
    "def encode_event_type(event_type_str):\n",
    "    event_types = [\"product_buy\", \"search_query\", \"page_visit\", \"add_to_cart\", \"remove_form_cart\"]\n",
    "    if(event_type_str==\"product_buy\"):\n",
    "        enc=[1,0,0,0,0]\n",
    "    elif(event_type_str==\"add_to_cart\"):\n",
    "        enc=[0,1,0,0,0]\n",
    "    elif(event_type_str==\"remove_from_cart\"):\n",
    "        enc=[0,0,1,0,0]\n",
    "    elif(event_type_str==\"page_visit\"):\n",
    "        enc=[0,0,0,1,0]\n",
    "    else:\n",
    "        enc=[0,0,0,0,1]\n",
    "    return np.array(enc)\n",
    "\n",
    "time_fields=[\"hour_norm\",\"weekday_norm\",\"week_of_month_norm\"]\n",
    "\n",
    "def row_to_tensor(row):\n",
    "    event_enc = torch.tensor(encode_event_type(row['event_type']), dtype=torch.float32)  # 5-dim\n",
    "    time_enc = torch.tensor([row[field] for field in time_fields], dtype=torch.float32)  # 3-dim\n",
    "\n",
    "    if row[\"event_type\"] == \"page_visit\":\n",
    "        emb = encode_visit(row)\n",
    "    elif row[\"event_type\"] == \"search_query\":\n",
    "        emb = encode_search(row)\n",
    "    else:\n",
    "        emb = encode_product_event(row)\n",
    "\n",
    "    full = torch.cat([event_enc, time_enc, emb])  \n",
    "    padded = F.pad(full, pad=(0, 59 - full.shape[0]), value=-1.0)\n",
    "    return time_wegiht(row[\"weeks_since_test_start\"]) * padded\n",
    "\n",
    "def time_wegiht(t,alpha=0.06):\n",
    "    return math.exp(-alpha * t)\n",
    "def encode_product_event(row):\n",
    "    return torch.cat([torch.tensor([row[field] for field in product_df_scalars], dtype=torch.float32),torch.tensor(row[\"norm\"] , dtype=torch.float32)]) \n",
    "def encode_search(row):\n",
    "    return torch.cat([torch.tensor([row[field] for field in search_df_scalars], dtype=torch.float32),torch.tensor(row[\"norm\"] , dtype=torch.float32)])\n",
    "    \n",
    "def encode_visit(row):\n",
    "    return torch.tensor([row[field] for field in visit_df_columns], dtype=torch.float32)\n",
    "    \n",
    "\n",
    "\n",
    "class EventDataset(torch.utils.data.Dataset):\n",
    "    def __init__(self, polars_grouped_df, encoder):\n",
    "        self.data = polars_grouped_df  # deve essere già grouped per client_id\n",
    "        self.encoder = encoder\n",
    "\n",
    "    def __len__(self):\n",
    "        return self.data.height\n",
    "\n",
    "    def __getitem__(self, idx):\n",
    "        events = self.data[idx, \"events\"]\n",
    "        rows = events.to_list()\n",
    "        encoded = [self.encoder(r) for r in rows]\n",
    "        return torch.stack(encoded)"
   ]
  },
  {
   "cell_type": "code",
   "execution_count": 17,
   "id": "ec315b21",
   "metadata": {
    "execution": {
     "iopub.execute_input": "2025-05-30T16:12:28.089201Z",
     "iopub.status.busy": "2025-05-30T16:12:28.088786Z",
     "iopub.status.idle": "2025-05-30T16:12:28.094822Z",
     "shell.execute_reply": "2025-05-30T16:12:28.094066Z"
    },
    "papermill": {
     "duration": 0.013825,
     "end_time": "2025-05-30T16:12:28.096256",
     "exception": false,
     "start_time": "2025-05-30T16:12:28.082431",
     "status": "completed"
    },
    "tags": []
   },
   "outputs": [],
   "source": [
    "product_df_scalars=[\n",
    "    'count_user_buy', 'count_user_add', 'count_user_remove',\n",
    "    'user_sku_entropy', 'user_cluster_entropy', 'user_cat_entropy',\n",
    "    'cr', 'local_cr', 'global_cr',\n",
    "    'tot_user_buy', 'tot_user_add', 'tot_user_remove',\n",
    "    'top_sku',\n",
    "    'cluster_buy_user_count', 'cluster_add_user_count', 'cluster_remove_user_count',\n",
    "    'cluster_buy_count', 'cluster_add_count', 'cluster_remove_count',\n",
    "    'cluster_entropy', 'sku_entropy',\n",
    "    'count_buy', 'count_add', 'count_remove', 'top_category',\n",
    "    'count_cat_user_buy', 'count_cat_user_add', 'count_cat_user_remove',\n",
    "    'global_cat_cr', 'local_cat_cr',\n",
    "    'count_cat_buy', 'count_cat_add', 'count_cat_remove',\n",
    "    'cat_entropy',\n",
    "    'price'\n",
    "]#'norm'\n",
    "slope_columns=[ '41','40','39','38','37','36','35','34','33','32','31',\n",
    " '30','29','28','27','26','25','24','23','22','21']\n",
    "\n",
    "visit_df_columns=[\n",
    "    'client_url_visits', 'client_total_visits',\n",
    "     'url_entropy',\n",
    "    'count', \n",
    " 'has_top_sku',\n",
    " 'has_top_category','num_events_nearby',\n",
    "    'time_diff',\n",
    "] + slope_columns \n",
    "search_df_scalars=[\n",
    "    'query_user_score', 'queries_made_by_user', 'user_query_entropy', 'user_cluster_entropy',\n",
    "    'query_score', 'cluster_score', 'cluster_made_by_user',\n",
    "    'query_entropy', 'cluster_entropy',\n",
    "    'has_top_sku', 'has_top_category',\n",
    "    'num_events_nearby',\n",
    "    'time_diff'\n",
    "]#'norm'\n"
   ]
  },
  {
   "cell_type": "code",
   "execution_count": 18,
   "id": "98f7f661",
   "metadata": {
    "execution": {
     "iopub.execute_input": "2025-05-30T16:12:28.108419Z",
     "iopub.status.busy": "2025-05-30T16:12:28.108128Z",
     "iopub.status.idle": "2025-05-30T16:12:56.404378Z",
     "shell.execute_reply": "2025-05-30T16:12:56.403725Z"
    },
    "papermill": {
     "duration": 28.304273,
     "end_time": "2025-05-30T16:12:56.406147",
     "exception": false,
     "start_time": "2025-05-30T16:12:28.101874",
     "status": "completed"
    },
    "tags": []
   },
   "outputs": [],
   "source": [
    "all_events=all_events.sort([\"client_id\",\"timestamp\"])\n",
    "grouped=(\n",
    "    all_events\n",
    "    .group_by(\"client_id\", maintain_order=True)\n",
    "    .agg([\n",
    "        pl.struct(all_events.columns).alias(\"events\") \n",
    "    ])\n",
    ")"
   ]
  },
  {
   "cell_type": "code",
   "execution_count": 19,
   "id": "7476e02a",
   "metadata": {
    "execution": {
     "iopub.execute_input": "2025-05-30T16:12:56.418736Z",
     "iopub.status.busy": "2025-05-30T16:12:56.417993Z",
     "iopub.status.idle": "2025-05-30T16:12:56.421730Z",
     "shell.execute_reply": "2025-05-30T16:12:56.420950Z"
    },
    "papermill": {
     "duration": 0.011229,
     "end_time": "2025-05-30T16:12:56.423098",
     "exception": false,
     "start_time": "2025-05-30T16:12:56.411869",
     "status": "completed"
    },
    "tags": []
   },
   "outputs": [],
   "source": [
    "#grouped.lazy().sink_parquet(\"grouped_events_sub.parquet\")"
   ]
  },
  {
   "cell_type": "code",
   "execution_count": 20,
   "id": "0f00b1cc",
   "metadata": {
    "execution": {
     "iopub.execute_input": "2025-05-30T16:12:56.434784Z",
     "iopub.status.busy": "2025-05-30T16:12:56.434519Z",
     "iopub.status.idle": "2025-05-30T16:12:56.450444Z",
     "shell.execute_reply": "2025-05-30T16:12:56.449594Z"
    },
    "papermill": {
     "duration": 0.023629,
     "end_time": "2025-05-30T16:12:56.452161",
     "exception": false,
     "start_time": "2025-05-30T16:12:56.428532",
     "status": "completed"
    },
    "tags": []
   },
   "outputs": [],
   "source": [
    "clients=np.array(grouped[\"client_id\"])\n",
    "np.save(\"/kaggle/working/client_ids.npy\",clients)"
   ]
  },
  {
   "cell_type": "code",
   "execution_count": 21,
   "id": "a2f77968",
   "metadata": {
    "execution": {
     "iopub.execute_input": "2025-05-30T16:12:56.464347Z",
     "iopub.status.busy": "2025-05-30T16:12:56.464071Z",
     "iopub.status.idle": "2025-05-30T16:12:56.478641Z",
     "shell.execute_reply": "2025-05-30T16:12:56.477924Z"
    },
    "papermill": {
     "duration": 0.022122,
     "end_time": "2025-05-30T16:12:56.479998",
     "exception": false,
     "start_time": "2025-05-30T16:12:56.457876",
     "status": "completed"
    },
    "tags": []
   },
   "outputs": [],
   "source": [
    "import torch\n",
    "import torch.nn as nn\n",
    "from torch.nn.utils.rnn import pack_padded_sequence\n",
    "import numpy as np\n",
    "from torch.utils.data import DataLoader\n",
    "from torch.nn.utils.rnn import pad_sequence\n",
    "\"\"\"\n",
    "Optimizable data parameters:\n",
    "-order of features in each event\n",
    "-features in each event\n",
    "-clustering methods for names/queries\n",
    "-session max length\n",
    "-\"slope\" calculation method\n",
    "-alpha for time decay, or decay method\n",
    "\n",
    "Optimizable model parameters:\n",
    "-optimizer but Adam should be the best, learning rate (tried 0.01 performance was worse)\n",
    "-layers in gru, tried higher but performance was worse\n",
    "-epochs, tried a few best performance at first epoch\n",
    "-changing the loss function maybe\n",
    "-hidden dim and latent dim\n",
    "-batch size\n",
    "\"\"\"\n",
    "\n",
    "\n",
    "class GRUAutoencoder(nn.Module):\n",
    "    def __init__(self, input_dim, hidden_dim, latent_dim,num_layers=1, use_gpu=False):\n",
    "        super(GRUAutoencoder, self).__init__()\n",
    "        self.device = torch.device(\"cuda\" if use_gpu and torch.cuda.is_available() else \"cpu\")\n",
    "        self.encoder_gru = nn.GRU(\n",
    "            input_dim, hidden_dim,\n",
    "            num_layers=num_layers,\n",
    "            dropout=0.2 if num_layers > 1 else 0.0,\n",
    "            batch_first=True\n",
    "        )\n",
    "        \n",
    "        self.decoder_gru = nn.GRU(\n",
    "            latent_dim, hidden_dim,\n",
    "            num_layers=num_layers,\n",
    "            dropout=0.2 if num_layers > 1 else 0.0,\n",
    "            batch_first=True\n",
    "        )\n",
    "        self.encoder_gru = nn.GRU(input_dim, hidden_dim, batch_first=True)\n",
    "        self.fc_latent = nn.Linear(hidden_dim, latent_dim)\n",
    "        self.decoder_gru = nn.GRU(latent_dim, hidden_dim, batch_first=True)\n",
    "        self.fc_out = nn.Linear(hidden_dim, input_dim)\n",
    "\n",
    "    def forward(self, x):\n",
    "        lengths = (x != -1.0).any(dim=2).sum(dim=1) \n",
    "\n",
    "        packed = pack_padded_sequence(x, lengths.cpu(), batch_first=True, enforce_sorted=False)\n",
    "        _, h_n = self.encoder_gru(packed)\n",
    "        z = self.fc_latent(h_n[-1]) \n",
    "\n",
    "        max_len = x.size(1)\n",
    "        z_repeated = z.unsqueeze(1).repeat(1, max_len, 1)\n",
    "        out, _ = self.decoder_gru(z_repeated)\n",
    "        recon_x = self.fc_out(out)\n",
    "\n",
    "        return recon_x, z\n",
    "\n",
    "    def get_user_embedding(self, x):\n",
    "        self.eval()\n",
    "        with torch.no_grad():\n",
    "            _, z = self.forward(x.to(self.device))\n",
    "        return z\n",
    "\n",
    "\n",
    "def reconstruction_loss(x, recon_x):\n",
    "    padding_mask = (x != -1.0).any(dim=2).float().unsqueeze(2)\n",
    "    loss = ((recon_x - x) ** 2) * padding_mask\n",
    "    final_loss = loss.sum() / padding_mask.sum()\n",
    "    return final_loss\n",
    "\n",
    "\n",
    "def train_model(model, dataloader, optimizer, num_epochs=1):\n",
    "    model.to(model.device)\n",
    "\n",
    "    for epoch in range(num_epochs):\n",
    "        model.train()\n",
    "        total_loss = 0.0\n",
    "        print(f\"Epoch {epoch + 1}/{num_epochs} started\")\n",
    "       \n",
    "        for batch in dataloader:\n",
    "            batch = batch.to(model.device)\n",
    "\n",
    "            optimizer.zero_grad()\n",
    "            recon_x, _ = model(batch)\n",
    "            loss = reconstruction_loss(batch, recon_x)\n",
    "            loss.backward()\n",
    "            torch.nn.utils.clip_grad_norm_(model.parameters(), max_norm=1.0)\n",
    "            optimizer.step()\n",
    "            total_loss += loss.item()\n",
    "        save_embeddings(model, dataset)\n",
    "        print(f\"Epoch {epoch + 1}/{num_epochs}, Loss: {total_loss / len(dataloader):.4f}\")\n",
    "\n",
    "\n",
    "def save_embeddings(model, events_dataset, clients=clients):\n",
    "    all_embeddings = []\n",
    "    model.eval()\n",
    "    for idx in range(len(clients)):\n",
    "        x = events_dataset[idx].unsqueeze(0)\n",
    "        embedding = model.get_user_embedding(x.to(model.device))\n",
    "        all_embeddings.append(embedding.squeeze(0).cpu())\n",
    "    all_embeddings = np.vstack(all_embeddings).astype(np.float16)\n",
    "    np.save(\"/kaggle/working/embeddings\", all_embeddings)\n",
    "    return all_embeddings\n",
    "\n",
    "def custom_collate_fn(batch):\n",
    "    return pad_sequence(batch, batch_first=True, padding_value=-1.0)\n",
    "\n",
    "\n",
    "\n"
   ]
  },
  {
   "cell_type": "code",
   "execution_count": 22,
   "id": "589cbe95",
   "metadata": {
    "execution": {
     "iopub.execute_input": "2025-05-30T16:12:56.492164Z",
     "iopub.status.busy": "2025-05-30T16:12:56.491540Z",
     "iopub.status.idle": "2025-05-30T17:20:27.233472Z",
     "shell.execute_reply": "2025-05-30T17:20:27.232587Z"
    },
    "papermill": {
     "duration": 4050.756411,
     "end_time": "2025-05-30T17:20:27.241928",
     "exception": false,
     "start_time": "2025-05-30T16:12:56.485517",
     "status": "completed"
    },
    "tags": []
   },
   "outputs": [
    {
     "name": "stdout",
     "output_type": "stream",
     "text": [
      "Epoch 1/1 started\n",
      "Epoch 1/1, Loss: 2.9754\n"
     ]
    }
   ],
   "source": [
    "dataset = EventDataset(grouped,row_to_tensor)\n",
    "model = GRUAutoencoder(input_dim=59, hidden_dim=256, latent_dim=128,num_layers=1, use_gpu=True)\n",
    "optimizer = torch.optim.Adam(model.parameters(), lr=1e-3)\n",
    "\n",
    "dataloader = DataLoader(dataset, batch_size=128, shuffle=True, collate_fn=custom_collate_fn)\n",
    "train_model(model, dataloader, optimizer, num_epochs=1)"
   ]
  }
 ],
 "metadata": {
  "kaggle": {
   "accelerator": "gpu",
   "dataSources": [
    {
     "databundleVersionId": 12526346,
     "datasetId": 7552882,
     "isSourceIdPinned": true,
     "sourceId": 12008514,
     "sourceType": "datasetVersion"
    }
   ],
   "dockerImageVersionId": 31041,
   "isGpuEnabled": true,
   "isInternetEnabled": true,
   "language": "python",
   "sourceType": "notebook"
  },
  "kernelspec": {
   "display_name": "Python 3",
   "language": "python",
   "name": "python3"
  },
  "language_info": {
   "codemirror_mode": {
    "name": "ipython",
    "version": 3
   },
   "file_extension": ".py",
   "mimetype": "text/x-python",
   "name": "python",
   "nbconvert_exporter": "python",
   "pygments_lexer": "ipython3",
   "version": "3.11.11"
  },
  "papermill": {
   "default_parameters": {},
   "duration": 4111.04046,
   "end_time": "2025-05-30T17:20:30.573773",
   "environment_variables": {},
   "exception": null,
   "input_path": "__notebook__.ipynb",
   "output_path": "__notebook__.ipynb",
   "parameters": {},
   "start_time": "2025-05-30T16:11:59.533313",
   "version": "2.6.0"
  }
 },
 "nbformat": 4,
 "nbformat_minor": 5
}
