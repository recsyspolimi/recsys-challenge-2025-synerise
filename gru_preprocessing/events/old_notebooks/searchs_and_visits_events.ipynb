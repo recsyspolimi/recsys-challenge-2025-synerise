{
 "cells": [
  {
   "cell_type": "code",
   "execution_count": 1,
   "metadata": {},
   "outputs": [
    {
     "name": "stdout",
     "output_type": "stream",
     "text": [
      "Current working directory: /Users/lucapagano/Developer/embedNbreakfast\n"
     ]
    }
   ],
   "source": [
    "import os\n",
    "import sys\n",
    "# Change directory to two levels up\n",
    "os.chdir(\"../..\")\n",
    "print(f\"Current working directory: {os.getcwd()}\")"
   ]
  },
  {
   "cell_type": "markdown",
   "metadata": {},
   "source": [
    "---"
   ]
  },
  {
   "cell_type": "code",
   "execution_count": 2,
   "metadata": {},
   "outputs": [],
   "source": [
    "DATA_DIR='/Users/lucapagano/Developer/RecSys/ACM 2025/new_ubc_data/' # Product Properties\n",
    "DATA_INPUT_DIR='/Users/lucapagano/Developer/RecSys/ACM 2025/new_ubc_data/input/' # Relevant Client\n",
    "RESULT_DIR='gru_preprocessing/results'"
   ]
  },
  {
   "cell_type": "code",
   "execution_count": 4,
   "metadata": {},
   "outputs": [
    {
     "name": "stdout",
     "output_type": "stream",
     "text": [
      "README.md         \u001b[1m\u001b[36mgru_preprocessing\u001b[m\u001b[m \u001b[1m\u001b[36msynerise\u001b[m\u001b[m\n",
      "\u001b[1m\u001b[36massets\u001b[m\u001b[m            \u001b[1m\u001b[36mmodels\u001b[m\u001b[m\n"
     ]
    }
   ],
   "source": [
    "!ls"
   ]
  },
  {
   "cell_type": "code",
   "execution_count": null,
   "metadata": {
    "execution": {
     "iopub.execute_input": "2025-05-29T11:06:14.394662Z",
     "iopub.status.busy": "2025-05-29T11:06:14.394303Z",
     "iopub.status.idle": "2025-05-29T11:06:45.729419Z",
     "shell.execute_reply": "2025-05-29T11:06:45.727187Z",
     "shell.execute_reply.started": "2025-05-29T11:06:14.394631Z"
    },
    "trusted": true
   },
   "outputs": [],
   "source": [
    "import polars as pl\n",
    "import numpy as np\n",
    "from datetime import timedelta\n",
    "from gru_preprocessing.util_functions import collapse, get_entropy_from_counts, add_nearby_skus, parse_embedding\n",
    "\n",
    "data_dir = DATA_DIR\n",
    "data_input_dir = DATA_INPUT_DIR\n",
    "relevant_clients=np.load(data_input_dir+\"relevant_clients.npy\")\n",
    "\n",
    "search_query=pl.read_parquet(data_input_dir+\"search_query.parquet\")\n",
    "\n",
    "page_visit=pl.read_parquet(data_input_dir+\"page_visit.parquet\")\n",
    "\n",
    "url_counts=(page_visit.group_by(\"url\").agg(pl.len().alias(\"score\")))\n",
    "page_visit = page_visit.join(url_counts, on=\"url\")\n",
    "\n",
    "\n",
    "product_events=pl.read_parquet(f\"{RESULT_DIR}/product_events.parquet\")\n",
    "top_skus = np.load(f\"{RESULT_DIR}/top_skus.npy\")\n",
    "top_cat = np.load(f\"{RESULT_DIR}/top_cats.npy\")\n"
   ]
  },
  {
   "cell_type": "markdown",
   "metadata": {},
   "source": [
    "## Page visits"
   ]
  },
  {
   "cell_type": "code",
   "execution_count": null,
   "metadata": {},
   "outputs": [],
   "source": [
    "#applied only for final submission, to have all relevant clietns embeddings\n",
    "filtered_visits=page_visit.filter(pl.col(\"client_id\").is_in(relevant_clients))\n",
    "exclueded_clients=relevant_clients[~np.isin(relevant_clients,np.concatenate([np.array(filtered_visits[\"client_id\"].unique()),np.array(search_query[\"client_id\"].unique()),np.array(product_events[\"client_id\"].unique())]))]\n",
    "filtered_visits=pl.concat([filtered_visits,page_visit.filter(pl.col(\"client_id\").is_in(exclueded_clients) )])\n",
    "filtered_visits"
   ]
  },
  {
   "cell_type": "code",
   "execution_count": null,
   "metadata": {},
   "outputs": [
    {
     "name": "stderr",
     "output_type": "stream",
     "text": [
      "c:\\Users\\vgius\\Desktop\\recsys2025pulito\\recsys2025-main\\ernesto\\jijioriginal\\util_functions.py:109: UserWarning: Sortedness of columns cannot be checked when 'by' groups provided\n",
      "  joined = product_events_filtered.join_asof(\n"
     ]
    }
   ],
   "source": [
    "#adding counts of nearby sku events\n",
    "page_sessions=collapse(filtered_visits,\"url\")\n",
    "page_sessions=add_nearby_skus(page_sessions,\"url\",product_events[[\"sku\",\"client_id\",\"timestamp\",\"category\"]],top_skus, top_cats)"
   ]
  },
  {
   "cell_type": "markdown",
   "metadata": {},
   "source": [
    "### Url features"
   ]
  },
  {
   "cell_type": "code",
   "execution_count": 39,
   "metadata": {},
   "outputs": [],
   "source": [
    "url_counts = (\n",
    "    page_visit\n",
    "    .group_by(\"url\")\n",
    "    .agg(pl.len().alias(\"count\"))\n",
    ")\n",
    "client_visit_total = (\n",
    "    page_visit\n",
    "    .group_by(\"client_id\")\n",
    "    .agg(pl.len().alias(\"client_total_visits\"))\n",
    ")\n",
    "client_url_visits = (\n",
    "    page_visit\n",
    "    .group_by([\"client_id\",\"url\"])\n",
    "    .agg(pl.len().alias(\"client_url_visits\"))\n",
    ")\n",
    "page_sessions=(page_sessions.join(url_counts,on=\"url\",how=\"left\")\n",
    "            .join(client_visit_total,on=\"client_id\",how=\"left\")\n",
    " .join(client_url_visits,on=[\"url\",\"client_id\"],how=\"left\")\n",
    "\n",
    ")\n",
    "page_sessions=(page_sessions\n",
    "    .join(get_entropy_from_counts(page_sessions,\"url\",\"url_entropy\"),on=\"url\",how=\"left\")\n",
    "    .join(get_entropy_from_counts(page_sessions,\"url\",\"client_entropy\",user_entropy=True),on=\"client_id\",how=\"left\"))"
   ]
  },
  {
   "cell_type": "code",
   "execution_count": null,
   "metadata": {},
   "outputs": [],
   "source": [
    "page_sessions=page_sessions.rename({\"session_start\":\"timestamp\"}).drop([\"session_id\",\"session_end\",\"session_end_ext\"])\n",
    "page_sessions.write_parquet(\"splitted/onlyrel/visit_events_sub.parquet\")\n",
    "filtered_visits=filtered_visits.filter(pl.col(\"client_id\").is_in(relevant_clients))\n",
    "page_sessions.write_parquet(\"splitted/visit_events_sub.parquet\")"
   ]
  },
  {
   "cell_type": "markdown",
   "metadata": {},
   "source": [
    "### Scaling"
   ]
  },
  {
   "cell_type": "code",
   "execution_count": null,
   "metadata": {},
   "outputs": [
    {
     "data": {
      "text/html": [
       "<div><style>\n",
       ".dataframe > thead > tr,\n",
       ".dataframe > tbody > tr {\n",
       "  text-align: right;\n",
       "  white-space: pre-wrap;\n",
       "}\n",
       "</style>\n",
       "<small>shape: (3_567_719, 15)</small><table border=\"1\" class=\"dataframe\"><thead><tr><th>client_id</th><th>session_id</th><th>url</th><th>session_start</th><th>session_end</th><th>time_diff</th><th>session_end_ext</th><th>num_events_nearby</th><th>has_top_sku</th><th>has_top_category</th><th>count</th><th>client_total_visits</th><th>client_url_visits</th><th>url_entropy</th><th>client_entropy</th></tr><tr><td>i64</td><td>i64</td><td>i64</td><td>datetime[ns]</td><td>datetime[ns]</td><td>f64</td><td>datetime[μs]</td><td>f64</td><td>i8</td><td>i8</td><td>f64</td><td>f64</td><td>f64</td><td>f64</td><td>f64</td></tr></thead><tbody><tr><td>1032454</td><td>156693</td><td>1793995</td><td>2022-07-13 12:40:05</td><td>2022-07-13 12:40:45</td><td>0.016667</td><td>2022-07-13 12:45:45</td><td>0.0</td><td>0</td><td>0</td><td>0.000026</td><td>0.006177</td><td>0.000456</td><td>0.08185</td><td>0.260062</td></tr><tr><td>11554285</td><td>1724827</td><td>4467320</td><td>2022-10-09 12:53:40</td><td>2022-10-09 12:53:40</td><td>0.0</td><td>2022-10-09 12:58:40</td><td>0.0</td><td>0</td><td>0</td><td>0.000552</td><td>0.000239</td><td>0.000456</td><td>0.279254</td><td>0.100912</td></tr><tr><td>6545516</td><td>975087</td><td>13766510</td><td>2022-07-20 17:16:00</td><td>2022-07-20 17:20:10</td><td>0.104167</td><td>2022-07-20 17:25:10</td><td>0.00232</td><td>0</td><td>0</td><td>0.000014</td><td>0.000797</td><td>0.001367</td><td>0.08185</td><td>7.2720e-8</td></tr><tr><td>173208</td><td>26022</td><td>4998343</td><td>2022-08-03 10:34:40</td><td>2022-08-03 10:34:40</td><td>0.0</td><td>2022-08-03 10:39:40</td><td>0.0</td><td>0</td><td>0</td><td>0.000036</td><td>0.145379</td><td>0.073382</td><td>7.4428e-8</td><td>0.264072</td></tr><tr><td>13227305</td><td>1970088</td><td>6112348</td><td>2022-09-15 08:36:20</td><td>2022-09-15 09:06:55</td><td>0.764583</td><td>2022-09-15 09:11:55</td><td>0.0</td><td>0</td><td>0</td><td>0.006301</td><td>0.007054</td><td>0.004558</td><td>0.430145</td><td>0.216295</td></tr><tr><td>&hellip;</td><td>&hellip;</td><td>&hellip;</td><td>&hellip;</td><td>&hellip;</td><td>&hellip;</td><td>&hellip;</td><td>&hellip;</td><td>&hellip;</td><td>&hellip;</td><td>&hellip;</td><td>&hellip;</td><td>&hellip;</td><td>&hellip;</td><td>&hellip;</td></tr><tr><td>22823738</td><td>3403248</td><td>15081668</td><td>2022-06-25 14:53:05</td><td>2022-06-25 14:53:30</td><td>0.010417</td><td>2022-06-25 14:58:30</td><td>0.0</td><td>0</td><td>0</td><td>0.000028</td><td>0.003905</td><td>0.001367</td><td>0.154924</td><td>0.196396</td></tr><tr><td>4293987</td><td>639318</td><td>3869076</td><td>2022-08-21 17:41:00</td><td>2022-08-21 18:20:55</td><td>0.997917</td><td>2022-08-21 18:25:55</td><td>0.0</td><td>0</td><td>0</td><td>0.000212</td><td>0.0053</td><td>0.001823</td><td>0.246112</td><td>0.217138</td></tr><tr><td>13503565</td><td>2012760</td><td>5021179</td><td>2022-07-29 08:43:30</td><td>2022-07-29 08:56:20</td><td>0.320833</td><td>2022-07-29 09:01:20</td><td>0.006961</td><td>0</td><td>1</td><td>0.000342</td><td>0.001036</td><td>0.003646</td><td>0.24907</td><td>7.2720e-8</td></tr><tr><td>6319041</td><td>941380</td><td>9330968</td><td>2022-08-20 13:26:35</td><td>2022-08-20 13:29:30</td><td>0.072917</td><td>2022-08-20 13:34:30</td><td>0.0</td><td>0</td><td>0</td><td>0.000096</td><td>0.000399</td><td>0.000456</td><td>0.22319</td><td>0.100912</td></tr><tr><td>22021762</td><td>3283254</td><td>6201687</td><td>2022-08-06 13:44:55</td><td>2022-08-06 13:49:45</td><td>0.120833</td><td>2022-08-06 13:54:45</td><td>0.009281</td><td>0</td><td>1</td><td>0.029911</td><td>0.100626</td><td>0.015497</td><td>0.606514</td><td>0.299695</td></tr></tbody></table></div>"
      ],
      "text/plain": [
       "shape: (3_567_719, 15)\n",
       "┌───────────┬───────────┬──────────┬───────────┬───┬───────────┬───────────┬───────────┬───────────┐\n",
       "│ client_id ┆ session_i ┆ url      ┆ session_s ┆ … ┆ client_to ┆ client_ur ┆ url_entro ┆ client_en │\n",
       "│ ---       ┆ d         ┆ ---      ┆ tart      ┆   ┆ tal_visit ┆ l_visits  ┆ py        ┆ tropy     │\n",
       "│ i64       ┆ ---       ┆ i64      ┆ ---       ┆   ┆ s         ┆ ---       ┆ ---       ┆ ---       │\n",
       "│           ┆ i64       ┆          ┆ datetime[ ┆   ┆ ---       ┆ f64       ┆ f64       ┆ f64       │\n",
       "│           ┆           ┆          ┆ ns]       ┆   ┆ f64       ┆           ┆           ┆           │\n",
       "╞═══════════╪═══════════╪══════════╪═══════════╪═══╪═══════════╪═══════════╪═══════════╪═══════════╡\n",
       "│ 1032454   ┆ 156693    ┆ 1793995  ┆ 2022-07-1 ┆ … ┆ 0.006177  ┆ 0.000456  ┆ 0.08185   ┆ 0.260062  │\n",
       "│           ┆           ┆          ┆ 3         ┆   ┆           ┆           ┆           ┆           │\n",
       "│           ┆           ┆          ┆ 12:40:05  ┆   ┆           ┆           ┆           ┆           │\n",
       "│ 11554285  ┆ 1724827   ┆ 4467320  ┆ 2022-10-0 ┆ … ┆ 0.000239  ┆ 0.000456  ┆ 0.279254  ┆ 0.100912  │\n",
       "│           ┆           ┆          ┆ 9         ┆   ┆           ┆           ┆           ┆           │\n",
       "│           ┆           ┆          ┆ 12:53:40  ┆   ┆           ┆           ┆           ┆           │\n",
       "│ 6545516   ┆ 975087    ┆ 13766510 ┆ 2022-07-2 ┆ … ┆ 0.000797  ┆ 0.001367  ┆ 0.08185   ┆ 7.2720e-8 │\n",
       "│           ┆           ┆          ┆ 0         ┆   ┆           ┆           ┆           ┆           │\n",
       "│           ┆           ┆          ┆ 17:16:00  ┆   ┆           ┆           ┆           ┆           │\n",
       "│ 173208    ┆ 26022     ┆ 4998343  ┆ 2022-08-0 ┆ … ┆ 0.145379  ┆ 0.073382  ┆ 7.4428e-8 ┆ 0.264072  │\n",
       "│           ┆           ┆          ┆ 3         ┆   ┆           ┆           ┆           ┆           │\n",
       "│           ┆           ┆          ┆ 10:34:40  ┆   ┆           ┆           ┆           ┆           │\n",
       "│ 13227305  ┆ 1970088   ┆ 6112348  ┆ 2022-09-1 ┆ … ┆ 0.007054  ┆ 0.004558  ┆ 0.430145  ┆ 0.216295  │\n",
       "│           ┆           ┆          ┆ 5         ┆   ┆           ┆           ┆           ┆           │\n",
       "│           ┆           ┆          ┆ 08:36:20  ┆   ┆           ┆           ┆           ┆           │\n",
       "│ …         ┆ …         ┆ …        ┆ …         ┆ … ┆ …         ┆ …         ┆ …         ┆ …         │\n",
       "│ 22823738  ┆ 3403248   ┆ 15081668 ┆ 2022-06-2 ┆ … ┆ 0.003905  ┆ 0.001367  ┆ 0.154924  ┆ 0.196396  │\n",
       "│           ┆           ┆          ┆ 5         ┆   ┆           ┆           ┆           ┆           │\n",
       "│           ┆           ┆          ┆ 14:53:05  ┆   ┆           ┆           ┆           ┆           │\n",
       "│ 4293987   ┆ 639318    ┆ 3869076  ┆ 2022-08-2 ┆ … ┆ 0.0053    ┆ 0.001823  ┆ 0.246112  ┆ 0.217138  │\n",
       "│           ┆           ┆          ┆ 1         ┆   ┆           ┆           ┆           ┆           │\n",
       "│           ┆           ┆          ┆ 17:41:00  ┆   ┆           ┆           ┆           ┆           │\n",
       "│ 13503565  ┆ 2012760   ┆ 5021179  ┆ 2022-07-2 ┆ … ┆ 0.001036  ┆ 0.003646  ┆ 0.24907   ┆ 7.2720e-8 │\n",
       "│           ┆           ┆          ┆ 9         ┆   ┆           ┆           ┆           ┆           │\n",
       "│           ┆           ┆          ┆ 08:43:30  ┆   ┆           ┆           ┆           ┆           │\n",
       "│ 6319041   ┆ 941380    ┆ 9330968  ┆ 2022-08-2 ┆ … ┆ 0.000399  ┆ 0.000456  ┆ 0.22319   ┆ 0.100912  │\n",
       "│           ┆           ┆          ┆ 0         ┆   ┆           ┆           ┆           ┆           │\n",
       "│           ┆           ┆          ┆ 13:26:35  ┆   ┆           ┆           ┆           ┆           │\n",
       "│ 22021762  ┆ 3283254   ┆ 6201687  ┆ 2022-08-0 ┆ … ┆ 0.100626  ┆ 0.015497  ┆ 0.606514  ┆ 0.299695  │\n",
       "│           ┆           ┆          ┆ 6         ┆   ┆           ┆           ┆           ┆           │\n",
       "│           ┆           ┆          ┆ 13:44:55  ┆   ┆           ┆           ┆           ┆           │\n",
       "└───────────┴───────────┴──────────┴───────────┴───┴───────────┴───────────┴───────────┴───────────┘"
      ]
     },
     "execution_count": 40,
     "metadata": {},
     "output_type": "execute_result"
    }
   ],
   "source": [
    "import math\n",
    "\n",
    "url_entropies_col=[ 'url_entropy',\n",
    " 'client_entropy']\n",
    "url_counts=[ 'count',\n",
    " 'client_total_visits',\n",
    " 'client_url_visits','num_events_nearby']\n",
    "\n",
    "max_urls=math.log2(page_sessions[\"url\"].n_unique())\n",
    "max_clients=math.log2(page_sessions[\"client_id\"].n_unique())\n",
    "for c in url_counts:\n",
    "    max_val=page_sessions[c].max()\n",
    "    page_sessions=page_sessions.with_columns([\n",
    "    (pl.col(c).fill_null(0.0) / (max_val + 1e-9)).alias(c)\n",
    "    ])\n",
    "\n",
    "for c in url_entropies_col:\n",
    "    if( c=='url_entropy'):\n",
    "        k=max_clients\n",
    "    else:\n",
    "        k=max_urls\n",
    "    page_sessions=page_sessions.with_columns([\n",
    "    (pl.col(c).fill_null(0.0) / (k + 1e-9)).alias(c)\n",
    "    ])\n",
    "\n",
    "max_time_diff=page_sessions[\"time_diff\"].max()\n",
    "page_sessions=page_sessions.with_columns([\n",
    "    (pl.col('time_diff')/max_time_diff).alias('time_diff')\n",
    "    ])\n",
    "\n",
    "page_sessions"
   ]
  },
  {
   "cell_type": "code",
   "execution_count": null,
   "metadata": {},
   "outputs": [],
   "source": [
    "page_sessions=page_sessions.rename({\"session_start\":\"timestamp\"}).drop([\"session_id\",\"session_end\",\"session_end_ext\"])\n",
    "page_sessions.write_parquet(\"splitted/onlyrel/visit_events_sub.parquet\")\n",
    "filtered_visits=filtered_visits.filter(pl.col(\"client_id\").is_in(relevant_clients))\n",
    "page_sessions.write_parquet(\"splitted/visit_events_sub.parquet\")"
   ]
  },
  {
   "cell_type": "markdown",
   "metadata": {},
   "source": [
    "# Search queries"
   ]
  },
  {
   "cell_type": "code",
   "execution_count": null,
   "metadata": {},
   "outputs": [],
   "source": [
    "from sklearn.cluster import KMeans\n",
    "import numpy as np\n",
    "import polars as pl\n",
    "\n",
    "unique_queries = search_query.select(\"query\").unique().with_row_index(name=\"query_id\")\n",
    "search_query = search_query.join(unique_queries, on=\"query\", how=\"left\").drop(\"query\")"
   ]
  },
  {
   "cell_type": "code",
   "execution_count": 11,
   "metadata": {},
   "outputs": [
    {
     "data": {
      "text/html": [
       "<div><style>\n",
       ".dataframe > thead > tr,\n",
       ".dataframe > tbody > tr {\n",
       "  text-align: right;\n",
       "  white-space: pre-wrap;\n",
       "}\n",
       "</style>\n",
       "<small>shape: (2_472_873, 5)</small><table border=\"1\" class=\"dataframe\"><thead><tr><th>query_id</th><th>query</th><th>embedding</th><th>cluster_id</th><th>centroid</th></tr><tr><td>u32</td><td>str</td><td>list[i32]</td><td>i32</td><td>list[f64]</td></tr></thead><tbody><tr><td>0</td><td>&quot;[115 166 229 224 115 106&nbsp;&nbsp;26 1…</td><td>[115, 166, … 238]</td><td>83</td><td>[110.286982, 182.569549, … 160.773893]</td></tr><tr><td>1</td><td>&quot;[185&nbsp;&nbsp;59&nbsp;&nbsp;86 185 185 216&nbsp;&nbsp;55&nbsp;&nbsp;…</td><td>[185, 59, … 201]</td><td>99</td><td>[162.847807, 81.593043, … 178.892783]</td></tr><tr><td>2</td><td>&quot;[ 92&nbsp;&nbsp;92&nbsp;&nbsp;92 148 148 123&nbsp;&nbsp;92&nbsp;&nbsp;…</td><td>[92, 92, … 92]</td><td>3</td><td>[123.793256, 123.326593, … 123.424568]</td></tr><tr><td>3</td><td>&quot;[232&nbsp;&nbsp;23 232&nbsp;&nbsp;86 171 226 230 2…</td><td>[232, 23, … 8]</td><td>44</td><td>[187.683225, 76.370597, … 88.268226]</td></tr><tr><td>4</td><td>&quot;[ 85 250 185 184 252 230&nbsp;&nbsp;60&nbsp;&nbsp;…</td><td>[85, 250, … 101]</td><td>71</td><td>[187.101214, 172.257938, … 82.10064]</td></tr><tr><td>&hellip;</td><td>&hellip;</td><td>&hellip;</td><td>&hellip;</td><td>&hellip;</td></tr><tr><td>2472868</td><td>&quot;[181&nbsp;&nbsp;&nbsp;7 155&nbsp;&nbsp;87&nbsp;&nbsp;60&nbsp;&nbsp;94 203&nbsp;&nbsp;…</td><td>[181, 7, … 107]</td><td>65</td><td>[174.163558, 61.376225, … 187.377659]</td></tr><tr><td>2472869</td><td>&quot;[163&nbsp;&nbsp;68&nbsp;&nbsp;58 154 163 174 212 2…</td><td>[163, 68, … 20]</td><td>8</td><td>[83.300798, 92.530963, … 71.967465]</td></tr><tr><td>2472870</td><td>&quot;[109&nbsp;&nbsp;77&nbsp;&nbsp;31 109 241 197 241 1…</td><td>[109, 77, … 98]</td><td>25</td><td>[80.713287, 152.52866, … 151.285629]</td></tr><tr><td>2472871</td><td>&quot;[138 107&nbsp;&nbsp;&nbsp;2 240 252&nbsp;&nbsp;83 250 1…</td><td>[138, 107, … 228]</td><td>85</td><td>[95.553069, 85.481163, … 184.92023]</td></tr><tr><td>2472872</td><td>&quot;[220 181 132 222 101 190&nbsp;&nbsp;22 1…</td><td>[220, 181, … 112]</td><td>15</td><td>[161.493384, 177.370394, … 84.451675]</td></tr></tbody></table></div>"
      ],
      "text/plain": [
       "shape: (2_472_873, 5)\n",
       "┌──────────┬───────────────────────────┬───────────────────┬────────────┬──────────────────────────┐\n",
       "│ query_id ┆ query                     ┆ embedding         ┆ cluster_id ┆ centroid                 │\n",
       "│ ---      ┆ ---                       ┆ ---               ┆ ---        ┆ ---                      │\n",
       "│ u32      ┆ str                       ┆ list[i32]         ┆ i32        ┆ list[f64]                │\n",
       "╞══════════╪═══════════════════════════╪═══════════════════╪════════════╪══════════════════════════╡\n",
       "│ 0        ┆ [115 166 229 224 115 106  ┆ [115, 166, … 238] ┆ 83         ┆ [110.286982, 182.569549, │\n",
       "│          ┆ 26 1…                     ┆                   ┆            ┆ … 160…                   │\n",
       "│ 1        ┆ [185  59  86 185 185 216  ┆ [185, 59, … 201]  ┆ 99         ┆ [162.847807, 81.593043,  │\n",
       "│          ┆ 55  …                     ┆                   ┆            ┆ … 178.…                  │\n",
       "│ 2        ┆ [ 92  92  92 148 148 123  ┆ [92, 92, … 92]    ┆ 3          ┆ [123.793256, 123.326593, │\n",
       "│          ┆ 92  …                     ┆                   ┆            ┆ … 123…                   │\n",
       "│ 3        ┆ [232  23 232  86 171 226  ┆ [232, 23, … 8]    ┆ 44         ┆ [187.683225, 76.370597,  │\n",
       "│          ┆ 230 2…                    ┆                   ┆            ┆ … 88.2…                  │\n",
       "│ 4        ┆ [ 85 250 185 184 252 230  ┆ [85, 250, … 101]  ┆ 71         ┆ [187.101214, 172.257938, │\n",
       "│          ┆ 60  …                     ┆                   ┆            ┆ … 82.…                   │\n",
       "│ …        ┆ …                         ┆ …                 ┆ …          ┆ …                        │\n",
       "│ 2472868  ┆ [181   7 155  87  60  94  ┆ [181, 7, … 107]   ┆ 65         ┆ [174.163558, 61.376225,  │\n",
       "│          ┆ 203  …                    ┆                   ┆            ┆ … 187.…                  │\n",
       "│ 2472869  ┆ [163  68  58 154 163 174  ┆ [163, 68, … 20]   ┆ 8          ┆ [83.300798, 92.530963, … │\n",
       "│          ┆ 212 2…                    ┆                   ┆            ┆ 71.96…                   │\n",
       "│ 2472870  ┆ [109  77  31 109 241 197  ┆ [109, 77, … 98]   ┆ 25         ┆ [80.713287, 152.52866, … │\n",
       "│          ┆ 241 1…                    ┆                   ┆            ┆ 151.2…                   │\n",
       "│ 2472871  ┆ [138 107   2 240 252  83  ┆ [138, 107, … 228] ┆ 85         ┆ [95.553069, 85.481163, … │\n",
       "│          ┆ 250 1…                    ┆                   ┆            ┆ 184.9…                   │\n",
       "│ 2472872  ┆ [220 181 132 222 101 190  ┆ [220, 181, … 112] ┆ 15         ┆ [161.493384, 177.370394, │\n",
       "│          ┆ 22 1…                     ┆                   ┆            ┆ … 84.…                   │\n",
       "└──────────┴───────────────────────────┴───────────────────┴────────────┴──────────────────────────┘"
      ]
     },
     "execution_count": 11,
     "metadata": {},
     "output_type": "execute_result"
    }
   ],
   "source": [
    "queries = pl.read_parquet(\"all/queries.parquet\")\n",
    "queries"
   ]
  },
  {
   "cell_type": "markdown",
   "metadata": {},
   "source": [
    "### Clusterring"
   ]
  },
  {
   "cell_type": "code",
   "execution_count": null,
   "metadata": {},
   "outputs": [],
   "source": [
    "queries = unique_queries.with_columns(\n",
    "    pl.col(\"query\").map_elements(parse_embedding, return_dtype=pl.List(pl.Int32)).alias(\"embedding\")\n",
    ")\n",
    "\n",
    "query_embeddings = np.array(queries[\"embedding\"].to_list())\n",
    "\n",
    "k = 100\n",
    "kmeans = KMeans(n_clusters=k, random_state=42)\n",
    "cluster_ids = kmeans.fit_predict(query_embeddings)\n",
    "centroids = kmeans.cluster_centers_\n",
    "\n",
    "centroids_queries=centroids\n",
    "queries = queries.with_columns([\n",
    "    pl.Series(\"cluster_id\", cluster_ids)\n",
    "])"
   ]
  },
  {
   "cell_type": "code",
   "execution_count": null,
   "metadata": {},
   "outputs": [],
   "source": [
    "#scores\n",
    "queries_global_scores=(\n",
    "    search_query\n",
    "    .group_by(\"query_id\")\n",
    "    .agg(pl.count().alias(\"query_score\"))\n",
    ")\n",
    "queries_user_scores=(\n",
    "    search_query\n",
    "    .group_by([\"client_id\",\"query_id\"])\n",
    "    .agg(pl.count().alias(\"query_user_score\"))\n",
    ")"
   ]
  },
  {
   "cell_type": "code",
   "execution_count": null,
   "metadata": {},
   "outputs": [],
   "source": [
    "queries = pl.read_parquet(\"all/queries.parquet\")"
   ]
  },
  {
   "cell_type": "code",
   "execution_count": 19,
   "metadata": {
    "execution": {
     "iopub.execute_input": "2025-05-28T20:04:30.382661Z",
     "iopub.status.busy": "2025-05-28T20:04:30.382419Z",
     "iopub.status.idle": "2025-05-28T20:05:53.681662Z",
     "shell.execute_reply": "2025-05-28T20:05:53.680872Z",
     "shell.execute_reply.started": "2025-05-28T20:04:30.382644Z"
    },
    "trusted": true
   },
   "outputs": [],
   "source": [
    "search_query=search_query.join(queries[[\"cluster_id\",\"query_id\"]],on=\"query_id\",how=\"left\")"
   ]
  },
  {
   "cell_type": "code",
   "execution_count": 14,
   "metadata": {},
   "outputs": [
    {
     "name": "stderr",
     "output_type": "stream",
     "text": [
      "C:\\Users\\vgius\\AppData\\Local\\Temp\\ipykernel_32528\\1567863214.py:2: DeprecationWarning: `pl.count()` is deprecated. Please use `pl.len()` instead.\n",
      "(Deprecated in version 0.20.5)\n",
      "  queries_made_by_user=(search_query.group_by(\"client_id\").agg(pl.count().alias(\"queries_made_by_user\"))\n",
      "C:\\Users\\vgius\\AppData\\Local\\Temp\\ipykernel_32528\\1567863214.py:4: DeprecationWarning: `pl.count()` is deprecated. Please use `pl.len()` instead.\n",
      "(Deprecated in version 0.20.5)\n",
      "  cluster_made_by_user=(search_query.group_by([\"cluster_id\",\"client_id\"]).agg(pl.count().alias(\"cluster_made_by_user\"))\n",
      "C:\\Users\\vgius\\AppData\\Local\\Temp\\ipykernel_32528\\1567863214.py:6: DeprecationWarning: `pl.count()` is deprecated. Please use `pl.len()` instead.\n",
      "(Deprecated in version 0.20.5)\n",
      "  cluster_score=(search_query.group_by(\"cluster_id\").agg(pl.count().alias(\"cluster_score\"))\n"
     ]
    }
   ],
   "source": [
    "#cluster scores\n",
    "queries_made_by_user=(search_query.group_by(\"client_id\").agg(pl.count().alias(\"queries_made_by_user\"))\n",
    "             )\n",
    "cluster_made_by_user=(search_query.group_by([\"cluster_id\",\"client_id\"]).agg(pl.count().alias(\"cluster_made_by_user\"))\n",
    "             )\n",
    "cluster_score=(search_query.group_by(\"cluster_id\").agg(pl.count().alias(\"cluster_score\"))\n",
    "             )"
   ]
  },
  {
   "cell_type": "markdown",
   "metadata": {},
   "source": [
    "### Colapsing consequent queries (40 min max)"
   ]
  },
  {
   "cell_type": "code",
   "execution_count": 16,
   "metadata": {},
   "outputs": [
    {
     "name": "stderr",
     "output_type": "stream",
     "text": [
      "c:\\Users\\vgius\\Desktop\\recsys2025pulito\\recsys2025-main\\ernesto\\jijioriginal\\util_functions.py:112: UserWarning: Sortedness of columns cannot be checked when 'by' groups provided\n",
      "  joined = product_events_filtered.join_asof(\n"
     ]
    }
   ],
   "source": [
    "search_query=collapse(search_query,\"query_id\")\n",
    "search_query=add_nearby_skus(search_query,\"query_id\", product_events,top_skus, top_cats)"
   ]
  },
  {
   "cell_type": "code",
   "execution_count": null,
   "metadata": {},
   "outputs": [
    {
     "data": {
      "text/html": [
       "<div><style>\n",
       ".dataframe > thead > tr,\n",
       ".dataframe > tbody > tr {\n",
       "  text-align: right;\n",
       "  white-space: pre-wrap;\n",
       "}\n",
       "</style>\n",
       "<small>shape: (2_210_120, 10)</small><table border=\"1\" class=\"dataframe\"><thead><tr><th>client_id</th><th>session_id</th><th>query_id</th><th>session_start</th><th>session_end</th><th>time_diff</th><th>session_end_ext</th><th>num_events_nearby</th><th>has_top_sku</th><th>has_top_category</th></tr><tr><td>i64</td><td>i64</td><td>u32</td><td>datetime[ns]</td><td>datetime[ns]</td><td>i64</td><td>datetime[μs]</td><td>i32</td><td>i8</td><td>i8</td></tr></thead><tbody><tr><td>15295015</td><td>1408305</td><td>1534133</td><td>2022-09-16 10:54:40</td><td>2022-09-16 10:56:30</td><td>110</td><td>2022-09-16 11:01:30</td><td>0</td><td>0</td><td>0</td></tr><tr><td>17489012</td><td>1611483</td><td>1534133</td><td>2022-08-30 15:31:50</td><td>2022-08-30 15:31:50</td><td>0</td><td>2022-08-30 15:36:50</td><td>0</td><td>0</td><td>0</td></tr><tr><td>18469966</td><td>1702776</td><td>158474</td><td>2022-07-15 07:47:50</td><td>2022-07-15 07:47:50</td><td>0</td><td>2022-07-15 07:52:50</td><td>0</td><td>0</td><td>0</td></tr><tr><td>1688714</td><td>156012</td><td>426368</td><td>2022-08-29 15:49:05</td><td>2022-08-29 15:49:05</td><td>0</td><td>2022-08-29 15:54:05</td><td>0</td><td>0</td><td>0</td></tr><tr><td>6732381</td><td>620916</td><td>787982</td><td>2022-10-12 10:16:25</td><td>2022-10-12 10:16:25</td><td>0</td><td>2022-10-12 10:21:25</td><td>1</td><td>0</td><td>1</td></tr><tr><td>&hellip;</td><td>&hellip;</td><td>&hellip;</td><td>&hellip;</td><td>&hellip;</td><td>&hellip;</td><td>&hellip;</td><td>&hellip;</td><td>&hellip;</td><td>&hellip;</td></tr><tr><td>7650815</td><td>706961</td><td>391897</td><td>2022-07-17 19:25:15</td><td>2022-07-17 19:25:59</td><td>44</td><td>2022-07-17 19:30:59</td><td>0</td><td>0</td><td>0</td></tr><tr><td>18203450</td><td>1677856</td><td>1534133</td><td>2022-09-28 07:43:35</td><td>2022-09-28 07:44:40</td><td>65</td><td>2022-09-28 07:49:40</td><td>0</td><td>0</td><td>0</td></tr><tr><td>7087064</td><td>653948</td><td>341517</td><td>2022-08-26 01:17:40</td><td>2022-08-26 01:36:00</td><td>1100</td><td>2022-08-26 01:41:00</td><td>4</td><td>0</td><td>1</td></tr><tr><td>9296572</td><td>857731</td><td>1169394</td><td>2022-08-21 19:55:30</td><td>2022-08-21 20:00:50</td><td>320</td><td>2022-08-21 20:05:50</td><td>0</td><td>0</td><td>0</td></tr><tr><td>14395198</td><td>1325190</td><td>234669</td><td>2022-09-02 13:48:20</td><td>2022-09-02 13:59:10</td><td>650</td><td>2022-09-02 14:04:10</td><td>0</td><td>0</td><td>0</td></tr></tbody></table></div>"
      ],
      "text/plain": [
       "shape: (2_210_120, 10)\n",
       "┌───────────┬───────────┬──────────┬───────────┬───┬───────────┬───────────┬───────────┬───────────┐\n",
       "│ client_id ┆ session_i ┆ query_id ┆ session_s ┆ … ┆ session_e ┆ num_event ┆ has_top_s ┆ has_top_c │\n",
       "│ ---       ┆ d         ┆ ---      ┆ tart      ┆   ┆ nd_ext    ┆ s_nearby  ┆ ku        ┆ ategory   │\n",
       "│ i64       ┆ ---       ┆ u32      ┆ ---       ┆   ┆ ---       ┆ ---       ┆ ---       ┆ ---       │\n",
       "│           ┆ i64       ┆          ┆ datetime[ ┆   ┆ datetime[ ┆ i32       ┆ i8        ┆ i8        │\n",
       "│           ┆           ┆          ┆ ns]       ┆   ┆ μs]       ┆           ┆           ┆           │\n",
       "╞═══════════╪═══════════╪══════════╪═══════════╪═══╪═══════════╪═══════════╪═══════════╪═══════════╡\n",
       "│ 15295015  ┆ 1408305   ┆ 1534133  ┆ 2022-09-1 ┆ … ┆ 2022-09-1 ┆ 0         ┆ 0         ┆ 0         │\n",
       "│           ┆           ┆          ┆ 6         ┆   ┆ 6         ┆           ┆           ┆           │\n",
       "│           ┆           ┆          ┆ 10:54:40  ┆   ┆ 11:01:30  ┆           ┆           ┆           │\n",
       "│ 17489012  ┆ 1611483   ┆ 1534133  ┆ 2022-08-3 ┆ … ┆ 2022-08-3 ┆ 0         ┆ 0         ┆ 0         │\n",
       "│           ┆           ┆          ┆ 0         ┆   ┆ 0         ┆           ┆           ┆           │\n",
       "│           ┆           ┆          ┆ 15:31:50  ┆   ┆ 15:36:50  ┆           ┆           ┆           │\n",
       "│ 18469966  ┆ 1702776   ┆ 158474   ┆ 2022-07-1 ┆ … ┆ 2022-07-1 ┆ 0         ┆ 0         ┆ 0         │\n",
       "│           ┆           ┆          ┆ 5         ┆   ┆ 5         ┆           ┆           ┆           │\n",
       "│           ┆           ┆          ┆ 07:47:50  ┆   ┆ 07:52:50  ┆           ┆           ┆           │\n",
       "│ 1688714   ┆ 156012    ┆ 426368   ┆ 2022-08-2 ┆ … ┆ 2022-08-2 ┆ 0         ┆ 0         ┆ 0         │\n",
       "│           ┆           ┆          ┆ 9         ┆   ┆ 9         ┆           ┆           ┆           │\n",
       "│           ┆           ┆          ┆ 15:49:05  ┆   ┆ 15:54:05  ┆           ┆           ┆           │\n",
       "│ 6732381   ┆ 620916    ┆ 787982   ┆ 2022-10-1 ┆ … ┆ 2022-10-1 ┆ 1         ┆ 0         ┆ 1         │\n",
       "│           ┆           ┆          ┆ 2         ┆   ┆ 2         ┆           ┆           ┆           │\n",
       "│           ┆           ┆          ┆ 10:16:25  ┆   ┆ 10:21:25  ┆           ┆           ┆           │\n",
       "│ …         ┆ …         ┆ …        ┆ …         ┆ … ┆ …         ┆ …         ┆ …         ┆ …         │\n",
       "│ 7650815   ┆ 706961    ┆ 391897   ┆ 2022-07-1 ┆ … ┆ 2022-07-1 ┆ 0         ┆ 0         ┆ 0         │\n",
       "│           ┆           ┆          ┆ 7         ┆   ┆ 7         ┆           ┆           ┆           │\n",
       "│           ┆           ┆          ┆ 19:25:15  ┆   ┆ 19:30:59  ┆           ┆           ┆           │\n",
       "│ 18203450  ┆ 1677856   ┆ 1534133  ┆ 2022-09-2 ┆ … ┆ 2022-09-2 ┆ 0         ┆ 0         ┆ 0         │\n",
       "│           ┆           ┆          ┆ 8         ┆   ┆ 8         ┆           ┆           ┆           │\n",
       "│           ┆           ┆          ┆ 07:43:35  ┆   ┆ 07:49:40  ┆           ┆           ┆           │\n",
       "│ 7087064   ┆ 653948    ┆ 341517   ┆ 2022-08-2 ┆ … ┆ 2022-08-2 ┆ 4         ┆ 0         ┆ 1         │\n",
       "│           ┆           ┆          ┆ 6         ┆   ┆ 6         ┆           ┆           ┆           │\n",
       "│           ┆           ┆          ┆ 01:17:40  ┆   ┆ 01:41:00  ┆           ┆           ┆           │\n",
       "│ 9296572   ┆ 857731    ┆ 1169394  ┆ 2022-08-2 ┆ … ┆ 2022-08-2 ┆ 0         ┆ 0         ┆ 0         │\n",
       "│           ┆           ┆          ┆ 1         ┆   ┆ 1         ┆           ┆           ┆           │\n",
       "│           ┆           ┆          ┆ 19:55:30  ┆   ┆ 20:05:50  ┆           ┆           ┆           │\n",
       "│ 14395198  ┆ 1325190   ┆ 234669   ┆ 2022-09-0 ┆ … ┆ 2022-09-0 ┆ 0         ┆ 0         ┆ 0         │\n",
       "│           ┆           ┆          ┆ 2         ┆   ┆ 2         ┆           ┆           ┆           │\n",
       "│           ┆           ┆          ┆ 13:48:20  ┆   ┆ 14:04:10  ┆           ┆           ┆           │\n",
       "└───────────┴───────────┴──────────┴───────────┴───┴───────────┴───────────┴───────────┴───────────┘"
      ]
     },
     "execution_count": 17,
     "metadata": {},
     "output_type": "execute_result"
    }
   ],
   "source": [
    "search_query=search_query.join(queries[[\"cluster_id\",\"query_id\"]],on=\"query_id\",how=\"left\")"
   ]
  },
  {
   "cell_type": "code",
   "execution_count": 20,
   "metadata": {},
   "outputs": [
    {
     "data": {
      "text/html": [
       "<div><style>\n",
       ".dataframe > thead > tr,\n",
       ".dataframe > tbody > tr {\n",
       "  text-align: right;\n",
       "  white-space: pre-wrap;\n",
       "}\n",
       "</style>\n",
       "<small>shape: (2_210_120, 20)</small><table border=\"1\" class=\"dataframe\"><thead><tr><th>client_id</th><th>session_id</th><th>query_id</th><th>session_start</th><th>session_end</th><th>time_diff</th><th>session_end_ext</th><th>num_events_nearby</th><th>has_top_sku</th><th>has_top_category</th><th>cluster_id</th><th>query_score</th><th>query_user_score</th><th>queries_made_by_user</th><th>cluster_made_by_user</th><th>cluster_score</th><th>query_entropy</th><th>cluster_entropy</th><th>user_query_entropy</th><th>user_cluster_entropy</th></tr><tr><td>i64</td><td>i64</td><td>u32</td><td>datetime[ns]</td><td>datetime[ns]</td><td>i64</td><td>datetime[μs]</td><td>i32</td><td>i8</td><td>i8</td><td>i32</td><td>u32</td><td>u32</td><td>u32</td><td>u32</td><td>u32</td><td>f64</td><td>f64</td><td>f64</td><td>f64</td></tr></thead><tbody><tr><td>15295015</td><td>1408305</td><td>1534133</td><td>2022-09-16 10:54:40</td><td>2022-09-16 10:56:30</td><td>110</td><td>2022-09-16 11:01:30</td><td>0</td><td>0</td><td>0</td><td>94</td><td>1479596</td><td>40</td><td>45</td><td>40</td><td>1552386</td><td>16.602693</td><td>16.705589</td><td>0.000001</td><td>0.000001</td></tr><tr><td>17489012</td><td>1611483</td><td>1534133</td><td>2022-08-30 15:31:50</td><td>2022-08-30 15:31:50</td><td>0</td><td>2022-08-30 15:36:50</td><td>0</td><td>0</td><td>0</td><td>94</td><td>1479596</td><td>26</td><td>26</td><td>26</td><td>1552386</td><td>16.602693</td><td>16.705589</td><td>0.000001</td><td>0.000001</td></tr><tr><td>18469966</td><td>1702776</td><td>158474</td><td>2022-07-15 07:47:50</td><td>2022-07-15 07:47:50</td><td>0</td><td>2022-07-15 07:52:50</td><td>0</td><td>0</td><td>0</td><td>54</td><td>4</td><td>1</td><td>1</td><td>1</td><td>86377</td><td>1.0</td><td>14.114207</td><td>0.000001</td><td>0.000001</td></tr><tr><td>1688714</td><td>156012</td><td>426368</td><td>2022-08-29 15:49:05</td><td>2022-08-29 15:49:05</td><td>0</td><td>2022-08-29 15:54:05</td><td>0</td><td>0</td><td>0</td><td>8</td><td>28</td><td>1</td><td>1</td><td>1</td><td>70668</td><td>1.584962</td><td>13.706026</td><td>0.000001</td><td>0.000001</td></tr><tr><td>6732381</td><td>620916</td><td>787982</td><td>2022-10-12 10:16:25</td><td>2022-10-12 10:16:25</td><td>0</td><td>2022-10-12 10:21:25</td><td>1</td><td>0</td><td>1</td><td>19</td><td>3065</td><td>1</td><td>1</td><td>1</td><td>75073</td><td>10.017457</td><td>13.868551</td><td>0.000001</td><td>0.000001</td></tr><tr><td>&hellip;</td><td>&hellip;</td><td>&hellip;</td><td>&hellip;</td><td>&hellip;</td><td>&hellip;</td><td>&hellip;</td><td>&hellip;</td><td>&hellip;</td><td>&hellip;</td><td>&hellip;</td><td>&hellip;</td><td>&hellip;</td><td>&hellip;</td><td>&hellip;</td><td>&hellip;</td><td>&hellip;</td><td>&hellip;</td><td>&hellip;</td><td>&hellip;</td></tr><tr><td>7650815</td><td>706961</td><td>391897</td><td>2022-07-17 19:25:15</td><td>2022-07-17 19:25:59</td><td>44</td><td>2022-07-17 19:30:59</td><td>0</td><td>0</td><td>0</td><td>49</td><td>14</td><td>2</td><td>5</td><td>2</td><td>74540</td><td>2.947703</td><td>13.708411</td><td>1.0</td><td>1.0</td></tr><tr><td>18203450</td><td>1677856</td><td>1534133</td><td>2022-09-28 07:43:35</td><td>2022-09-28 07:44:40</td><td>65</td><td>2022-09-28 07:49:40</td><td>0</td><td>0</td><td>0</td><td>94</td><td>1479596</td><td>16</td><td>16</td><td>16</td><td>1552386</td><td>16.602693</td><td>16.705589</td><td>0.000001</td><td>0.000001</td></tr><tr><td>7087064</td><td>653948</td><td>341517</td><td>2022-08-26 01:17:40</td><td>2022-08-26 01:36:00</td><td>1100</td><td>2022-08-26 01:41:00</td><td>4</td><td>0</td><td>1</td><td>84</td><td>20619</td><td>355</td><td>607</td><td>360</td><td>94129</td><td>9.518071</td><td>13.817571</td><td>3.085885</td><td>3.085885</td></tr><tr><td>9296572</td><td>857731</td><td>1169394</td><td>2022-08-21 19:55:30</td><td>2022-08-21 20:00:50</td><td>320</td><td>2022-08-21 20:05:50</td><td>0</td><td>0</td><td>0</td><td>78</td><td>7</td><td>3</td><td>241</td><td>7</td><td>71175</td><td>0.000001</td><td>13.661898</td><td>4.722967</td><td>4.668913</td></tr><tr><td>14395198</td><td>1325190</td><td>234669</td><td>2022-09-02 13:48:20</td><td>2022-09-02 13:59:10</td><td>650</td><td>2022-09-02 14:04:10</td><td>0</td><td>0</td><td>0</td><td>43</td><td>266</td><td>1</td><td>86</td><td>1</td><td>109184</td><td>5.936286</td><td>14.409816</td><td>3.892407</td><td>3.721612</td></tr></tbody></table></div>"
      ],
      "text/plain": [
       "shape: (2_210_120, 20)\n",
       "┌───────────┬───────────┬──────────┬───────────┬───┬───────────┬───────────┬───────────┬───────────┐\n",
       "│ client_id ┆ session_i ┆ query_id ┆ session_s ┆ … ┆ query_ent ┆ cluster_e ┆ user_quer ┆ user_clus │\n",
       "│ ---       ┆ d         ┆ ---      ┆ tart      ┆   ┆ ropy      ┆ ntropy    ┆ y_entropy ┆ ter_entro │\n",
       "│ i64       ┆ ---       ┆ u32      ┆ ---       ┆   ┆ ---       ┆ ---       ┆ ---       ┆ py        │\n",
       "│           ┆ i64       ┆          ┆ datetime[ ┆   ┆ f64       ┆ f64       ┆ f64       ┆ ---       │\n",
       "│           ┆           ┆          ┆ ns]       ┆   ┆           ┆           ┆           ┆ f64       │\n",
       "╞═══════════╪═══════════╪══════════╪═══════════╪═══╪═══════════╪═══════════╪═══════════╪═══════════╡\n",
       "│ 15295015  ┆ 1408305   ┆ 1534133  ┆ 2022-09-1 ┆ … ┆ 16.602693 ┆ 16.705589 ┆ 0.000001  ┆ 0.000001  │\n",
       "│           ┆           ┆          ┆ 6         ┆   ┆           ┆           ┆           ┆           │\n",
       "│           ┆           ┆          ┆ 10:54:40  ┆   ┆           ┆           ┆           ┆           │\n",
       "│ 17489012  ┆ 1611483   ┆ 1534133  ┆ 2022-08-3 ┆ … ┆ 16.602693 ┆ 16.705589 ┆ 0.000001  ┆ 0.000001  │\n",
       "│           ┆           ┆          ┆ 0         ┆   ┆           ┆           ┆           ┆           │\n",
       "│           ┆           ┆          ┆ 15:31:50  ┆   ┆           ┆           ┆           ┆           │\n",
       "│ 18469966  ┆ 1702776   ┆ 158474   ┆ 2022-07-1 ┆ … ┆ 1.0       ┆ 14.114207 ┆ 0.000001  ┆ 0.000001  │\n",
       "│           ┆           ┆          ┆ 5         ┆   ┆           ┆           ┆           ┆           │\n",
       "│           ┆           ┆          ┆ 07:47:50  ┆   ┆           ┆           ┆           ┆           │\n",
       "│ 1688714   ┆ 156012    ┆ 426368   ┆ 2022-08-2 ┆ … ┆ 1.584962  ┆ 13.706026 ┆ 0.000001  ┆ 0.000001  │\n",
       "│           ┆           ┆          ┆ 9         ┆   ┆           ┆           ┆           ┆           │\n",
       "│           ┆           ┆          ┆ 15:49:05  ┆   ┆           ┆           ┆           ┆           │\n",
       "│ 6732381   ┆ 620916    ┆ 787982   ┆ 2022-10-1 ┆ … ┆ 10.017457 ┆ 13.868551 ┆ 0.000001  ┆ 0.000001  │\n",
       "│           ┆           ┆          ┆ 2         ┆   ┆           ┆           ┆           ┆           │\n",
       "│           ┆           ┆          ┆ 10:16:25  ┆   ┆           ┆           ┆           ┆           │\n",
       "│ …         ┆ …         ┆ …        ┆ …         ┆ … ┆ …         ┆ …         ┆ …         ┆ …         │\n",
       "│ 7650815   ┆ 706961    ┆ 391897   ┆ 2022-07-1 ┆ … ┆ 2.947703  ┆ 13.708411 ┆ 1.0       ┆ 1.0       │\n",
       "│           ┆           ┆          ┆ 7         ┆   ┆           ┆           ┆           ┆           │\n",
       "│           ┆           ┆          ┆ 19:25:15  ┆   ┆           ┆           ┆           ┆           │\n",
       "│ 18203450  ┆ 1677856   ┆ 1534133  ┆ 2022-09-2 ┆ … ┆ 16.602693 ┆ 16.705589 ┆ 0.000001  ┆ 0.000001  │\n",
       "│           ┆           ┆          ┆ 8         ┆   ┆           ┆           ┆           ┆           │\n",
       "│           ┆           ┆          ┆ 07:43:35  ┆   ┆           ┆           ┆           ┆           │\n",
       "│ 7087064   ┆ 653948    ┆ 341517   ┆ 2022-08-2 ┆ … ┆ 9.518071  ┆ 13.817571 ┆ 3.085885  ┆ 3.085885  │\n",
       "│           ┆           ┆          ┆ 6         ┆   ┆           ┆           ┆           ┆           │\n",
       "│           ┆           ┆          ┆ 01:17:40  ┆   ┆           ┆           ┆           ┆           │\n",
       "│ 9296572   ┆ 857731    ┆ 1169394  ┆ 2022-08-2 ┆ … ┆ 0.000001  ┆ 13.661898 ┆ 4.722967  ┆ 4.668913  │\n",
       "│           ┆           ┆          ┆ 1         ┆   ┆           ┆           ┆           ┆           │\n",
       "│           ┆           ┆          ┆ 19:55:30  ┆   ┆           ┆           ┆           ┆           │\n",
       "│ 14395198  ┆ 1325190   ┆ 234669   ┆ 2022-09-0 ┆ … ┆ 5.936286  ┆ 14.409816 ┆ 3.892407  ┆ 3.721612  │\n",
       "│           ┆           ┆          ┆ 2         ┆   ┆           ┆           ┆           ┆           │\n",
       "│           ┆           ┆          ┆ 13:48:20  ┆   ┆           ┆           ┆           ┆           │\n",
       "└───────────┴───────────┴──────────┴───────────┴───┴───────────┴───────────┴───────────┴───────────┘"
      ]
     },
     "execution_count": 20,
     "metadata": {},
     "output_type": "execute_result"
    }
   ],
   "source": [
    "#adding scores and entropies\n",
    "search_query=(search_query\n",
    "              .join(queries_global_scores,on=\"query_id\",how=\"left\")\n",
    "              .join(queries_user_scores,on=[\"client_id\",\"query_id\"],how=\"left\")\n",
    "                .join(queries_made_by_user,on=\"client_id\",how=\"left\")\n",
    "                .join(cluster_made_by_user,on=[\"client_id\",\"cluster_id\"],how=\"left\")\n",
    "                .join(cluster_score,on=\"cluster_id\",how=\"left\")\n",
    "             )\n",
    "search_query=(search_query\n",
    "    .join(get_entropy_from_counts(search_query,\"query_id\",\"query_entropy\"),on=\"query_id\",how=\"left\")\n",
    "    .join(get_entropy_from_counts(search_query,\"cluster_id\",\"cluster_entropy\"),on=\"cluster_id\",how=\"left\")\n",
    "    .join(get_entropy_from_counts(search_query,\"query_id\",\"user_query_entropy\",user_entropy=True),on=\"client_id\",how=\"left\")\n",
    "    .join(get_entropy_from_counts(search_query,\"cluster_id\",\"user_cluster_entropy\",user_entropy=True),on=\"client_id\",how=\"left\")\n",
    "    )\n",
    "search_query"
   ]
  },
  {
   "cell_type": "code",
   "execution_count": 21,
   "metadata": {},
   "outputs": [],
   "source": [
    "search_query=search_query.rename({\"session_start\":\"timestamp\"})"
   ]
  },
  {
   "cell_type": "code",
   "execution_count": null,
   "metadata": {},
   "outputs": [],
   "source": [
    "queries = queries.with_columns(\n",
    "    pl.col(\"cluster_id\")\n",
    "      .map_elements(lambda cid: centroids[int(cid)].tolist())   # prende il centroide giusto\n",
    "      .alias(\"centroid\")                                        # nuova colonna\n",
    ")"
   ]
  },
  {
   "cell_type": "code",
   "execution_count": null,
   "metadata": {},
   "outputs": [],
   "source": [
    "search_query.write_parquet(\"noscale/split14/search_events_sub.parquet\")\n",
    "search_query = search_query.filter(pl.col(\"client_id\").is_in(relevant_clients))\n",
    "search_query.write_parquet(\"noscale/split14/onlyrel/search_events_sub.parquet\")"
   ]
  },
  {
   "cell_type": "markdown",
   "metadata": {},
   "source": [
    "### Scaling"
   ]
  },
  {
   "cell_type": "code",
   "execution_count": 53,
   "metadata": {},
   "outputs": [
    {
     "data": {
      "text/html": [
       "<div><style>\n",
       ".dataframe > thead > tr,\n",
       ".dataframe > tbody > tr {\n",
       "  text-align: right;\n",
       "  white-space: pre-wrap;\n",
       "}\n",
       "</style>\n",
       "<small>shape: (1_893_597, 20)</small><table border=\"1\" class=\"dataframe\"><thead><tr><th>client_id</th><th>session_id</th><th>query_id</th><th>timestamp</th><th>session_end</th><th>time_diff</th><th>session_end_ext</th><th>num_events_nearby</th><th>has_top_sku</th><th>has_top_category</th><th>cluster_id</th><th>query_score</th><th>query_user_score</th><th>queries_made_by_user</th><th>cluster_made_by_user</th><th>cluster_score</th><th>query_entropy</th><th>cluster_entropy</th><th>user_query_entropy</th><th>user_cluster_entropy</th></tr><tr><td>i64</td><td>i64</td><td>u32</td><td>datetime[ns]</td><td>datetime[ns]</td><td>f64</td><td>datetime[μs]</td><td>f64</td><td>i8</td><td>i8</td><td>i32</td><td>f64</td><td>f64</td><td>f64</td><td>f64</td><td>f64</td><td>f64</td><td>f64</td><td>f64</td><td>f64</td></tr></thead><tbody><tr><td>21805907</td><td>1721855</td><td>651936</td><td>2022-08-13 13:13:10</td><td>2022-08-13 13:13:35</td><td>0.010417</td><td>2022-08-13 13:18:35</td><td>0.0</td><td>0</td><td>0</td><td>27</td><td>8.9290e-7</td><td>0.000632</td><td>0.026432</td><td>0.000629</td><td>0.05421</td><td>7.2260e-8</td><td>0.69326</td><td>0.205732</td><td>0.584628</td></tr><tr><td>8834292</td><td>698900</td><td>1660052</td><td>2022-06-27 13:46:00</td><td>2022-06-27 13:46:00</td><td>0.0</td><td>2022-06-27 13:51:00</td><td>0.0</td><td>0</td><td>0</td><td>11</td><td>0.00028</td><td>0.000632</td><td>0.000367</td><td>0.000629</td><td>0.047408</td><td>0.334976</td><td>0.685156</td><td>7.4422e-8</td><td>2.1693e-7</td></tr><tr><td>11055200</td><td>873783</td><td>754415</td><td>2022-08-05 19:42:20</td><td>2022-08-05 19:47:10</td><td>0.120833</td><td>2022-08-05 19:52:10</td><td>0.0</td><td>0</td><td>0</td><td>73</td><td>0.000826</td><td>0.001263</td><td>0.022026</td><td>0.001259</td><td>0.046406</td><td>0.404687</td><td>0.682162</td><td>0.109888</td><td>0.320309</td></tr><tr><td>18354589</td><td>1450601</td><td>1646003</td><td>2022-09-01 09:34:35</td><td>2022-09-01 09:34:55</td><td>0.008333</td><td>2022-09-01 09:39:55</td><td>0.0</td><td>0</td><td>0</td><td>58</td><td>0.000179</td><td>0.005685</td><td>0.052496</td><td>0.005664</td><td>0.133284</td><td>0.11289</td><td>0.732996</td><td>0.237906</td><td>0.644909</td></tr><tr><td>21054430</td><td>1662663</td><td>1045097</td><td>2022-08-03 08:26:50</td><td>2022-08-03 09:06:40</td><td>0.995833</td><td>2022-08-03 09:11:40</td><td>0.014388</td><td>0</td><td>0</td><td>15</td><td>0.000088</td><td>0.008212</td><td>0.017988</td><td>0.00944</td><td>0.041602</td><td>0.187238</td><td>0.671118</td><td>0.103274</td><td>0.30103</td></tr><tr><td>&hellip;</td><td>&hellip;</td><td>&hellip;</td><td>&hellip;</td><td>&hellip;</td><td>&hellip;</td><td>&hellip;</td><td>&hellip;</td><td>&hellip;</td><td>&hellip;</td><td>&hellip;</td><td>&hellip;</td><td>&hellip;</td><td>&hellip;</td><td>&hellip;</td><td>&hellip;</td><td>&hellip;</td><td>&hellip;</td><td>&hellip;</td><td>&hellip;</td></tr><tr><td>7256457</td><td>574517</td><td>1529500</td><td>2022-07-08 12:58:00</td><td>2022-07-08 13:03:00</td><td>0.125</td><td>2022-07-08 13:08:00</td><td>0.002398</td><td>0</td><td>0</td><td>32</td><td>0.000021</td><td>0.001895</td><td>0.004405</td><td>0.001888</td><td>0.037982</td><td>0.173446</td><td>0.657097</td><td>0.051637</td><td>0.150515</td></tr><tr><td>20265272</td><td>1601089</td><td>793270</td><td>2022-07-28 16:13:00</td><td>2022-07-28 16:50:15</td><td>0.93125</td><td>2022-07-28 16:55:15</td><td>0.004796</td><td>0</td><td>1</td><td>25</td><td>0.000006</td><td>0.000632</td><td>0.003304</td><td>0.003776</td><td>0.050373</td><td>0.050137</td><td>0.699337</td><td>7.4422e-8</td><td>2.1693e-7</td></tr><tr><td>9240386</td><td>730705</td><td>15109</td><td>2022-07-12 07:07:40</td><td>2022-07-12 07:07:40</td><td>0.0</td><td>2022-07-12 07:12:40</td><td>0.002398</td><td>0</td><td>1</td><td>94</td><td>0.000004</td><td>0.000632</td><td>0.000367</td><td>0.000629</td><td>0.05131</td><td>0.050137</td><td>0.68562</td><td>7.4422e-8</td><td>2.1693e-7</td></tr><tr><td>4865591</td><td>383352</td><td>7523</td><td>2022-07-26 22:51:40</td><td>2022-07-26 22:51:40</td><td>0.0</td><td>2022-07-26 22:56:40</td><td>0.0</td><td>0</td><td>0</td><td>8</td><td>8.9290e-7</td><td>0.000632</td><td>0.037812</td><td>0.000629</td><td>0.06333</td><td>7.2260e-8</td><td>0.709021</td><td>0.080055</td><td>0.219666</td></tr><tr><td>2386809</td><td>187920</td><td>397149</td><td>2022-07-26 16:05:10</td><td>2022-07-26 16:07:15</td><td>0.052083</td><td>2022-07-26 16:12:15</td><td>0.0</td><td>0</td><td>0</td><td>4</td><td>0.000009</td><td>0.000632</td><td>0.001101</td><td>0.000629</td><td>0.040711</td><td>0.11289</td><td>0.663759</td><td>7.4422e-8</td><td>2.1693e-7</td></tr></tbody></table></div>"
      ],
      "text/plain": [
       "shape: (1_893_597, 20)\n",
       "┌───────────┬───────────┬──────────┬───────────┬───┬───────────┬───────────┬───────────┬───────────┐\n",
       "│ client_id ┆ session_i ┆ query_id ┆ timestamp ┆ … ┆ query_ent ┆ cluster_e ┆ user_quer ┆ user_clus │\n",
       "│ ---       ┆ d         ┆ ---      ┆ ---       ┆   ┆ ropy      ┆ ntropy    ┆ y_entropy ┆ ter_entro │\n",
       "│ i64       ┆ ---       ┆ u32      ┆ datetime[ ┆   ┆ ---       ┆ ---       ┆ ---       ┆ py        │\n",
       "│           ┆ i64       ┆          ┆ ns]       ┆   ┆ f64       ┆ f64       ┆ f64       ┆ ---       │\n",
       "│           ┆           ┆          ┆           ┆   ┆           ┆           ┆           ┆ f64       │\n",
       "╞═══════════╪═══════════╪══════════╪═══════════╪═══╪═══════════╪═══════════╪═══════════╪═══════════╡\n",
       "│ 21805907  ┆ 1721855   ┆ 651936   ┆ 2022-08-1 ┆ … ┆ 7.2260e-8 ┆ 0.69326   ┆ 0.205732  ┆ 0.584628  │\n",
       "│           ┆           ┆          ┆ 3         ┆   ┆           ┆           ┆           ┆           │\n",
       "│           ┆           ┆          ┆ 13:13:10  ┆   ┆           ┆           ┆           ┆           │\n",
       "│ 8834292   ┆ 698900    ┆ 1660052  ┆ 2022-06-2 ┆ … ┆ 0.334976  ┆ 0.685156  ┆ 7.4422e-8 ┆ 2.1693e-7 │\n",
       "│           ┆           ┆          ┆ 7         ┆   ┆           ┆           ┆           ┆           │\n",
       "│           ┆           ┆          ┆ 13:46:00  ┆   ┆           ┆           ┆           ┆           │\n",
       "│ 11055200  ┆ 873783    ┆ 754415   ┆ 2022-08-0 ┆ … ┆ 0.404687  ┆ 0.682162  ┆ 0.109888  ┆ 0.320309  │\n",
       "│           ┆           ┆          ┆ 5         ┆   ┆           ┆           ┆           ┆           │\n",
       "│           ┆           ┆          ┆ 19:42:20  ┆   ┆           ┆           ┆           ┆           │\n",
       "│ 18354589  ┆ 1450601   ┆ 1646003  ┆ 2022-09-0 ┆ … ┆ 0.11289   ┆ 0.732996  ┆ 0.237906  ┆ 0.644909  │\n",
       "│           ┆           ┆          ┆ 1         ┆   ┆           ┆           ┆           ┆           │\n",
       "│           ┆           ┆          ┆ 09:34:35  ┆   ┆           ┆           ┆           ┆           │\n",
       "│ 21054430  ┆ 1662663   ┆ 1045097  ┆ 2022-08-0 ┆ … ┆ 0.187238  ┆ 0.671118  ┆ 0.103274  ┆ 0.30103   │\n",
       "│           ┆           ┆          ┆ 3         ┆   ┆           ┆           ┆           ┆           │\n",
       "│           ┆           ┆          ┆ 08:26:50  ┆   ┆           ┆           ┆           ┆           │\n",
       "│ …         ┆ …         ┆ …        ┆ …         ┆ … ┆ …         ┆ …         ┆ …         ┆ …         │\n",
       "│ 7256457   ┆ 574517    ┆ 1529500  ┆ 2022-07-0 ┆ … ┆ 0.173446  ┆ 0.657097  ┆ 0.051637  ┆ 0.150515  │\n",
       "│           ┆           ┆          ┆ 8         ┆   ┆           ┆           ┆           ┆           │\n",
       "│           ┆           ┆          ┆ 12:58:00  ┆   ┆           ┆           ┆           ┆           │\n",
       "│ 20265272  ┆ 1601089   ┆ 793270   ┆ 2022-07-2 ┆ … ┆ 0.050137  ┆ 0.699337  ┆ 7.4422e-8 ┆ 2.1693e-7 │\n",
       "│           ┆           ┆          ┆ 8         ┆   ┆           ┆           ┆           ┆           │\n",
       "│           ┆           ┆          ┆ 16:13:00  ┆   ┆           ┆           ┆           ┆           │\n",
       "│ 9240386   ┆ 730705    ┆ 15109    ┆ 2022-07-1 ┆ … ┆ 0.050137  ┆ 0.68562   ┆ 7.4422e-8 ┆ 2.1693e-7 │\n",
       "│           ┆           ┆          ┆ 2         ┆   ┆           ┆           ┆           ┆           │\n",
       "│           ┆           ┆          ┆ 07:07:40  ┆   ┆           ┆           ┆           ┆           │\n",
       "│ 4865591   ┆ 383352    ┆ 7523     ┆ 2022-07-2 ┆ … ┆ 7.2260e-8 ┆ 0.709021  ┆ 0.080055  ┆ 0.219666  │\n",
       "│           ┆           ┆          ┆ 6         ┆   ┆           ┆           ┆           ┆           │\n",
       "│           ┆           ┆          ┆ 22:51:40  ┆   ┆           ┆           ┆           ┆           │\n",
       "│ 2386809   ┆ 187920    ┆ 397149   ┆ 2022-07-2 ┆ … ┆ 0.11289   ┆ 0.663759  ┆ 7.4422e-8 ┆ 2.1693e-7 │\n",
       "│           ┆           ┆          ┆ 6         ┆   ┆           ┆           ┆           ┆           │\n",
       "│           ┆           ┆          ┆ 16:05:10  ┆   ┆           ┆           ┆           ┆           │\n",
       "└───────────┴───────────┴──────────┴───────────┴───┴───────────┴───────────┴───────────┴───────────┘"
      ]
     },
     "execution_count": 53,
     "metadata": {},
     "output_type": "execute_result"
    }
   ],
   "source": [
    "import math\n",
    "queries_entropies=[ 'query_entropy',\n",
    " 'cluster_entropy',\n",
    " 'user_query_entropy',\n",
    " 'user_cluster_entropy']\n",
    "queries_counts=[\n",
    " 'num_events_nearby',\n",
    " 'query_score',\n",
    " 'query_user_score',\n",
    " 'queries_made_by_user',\n",
    " 'cluster_made_by_user',\n",
    " 'cluster_score']\n",
    "max_queries=math.log2(search_query[\"query_id\"].n_unique())\n",
    "max_clients=math.log2(search_query[\"client_id\"].n_unique())\n",
    "max_clusters=math.log2(search_query[\"cluster_id\"].n_unique())\n",
    "\n",
    "for c in queries_counts:\n",
    "    max_val=search_query[c].max()\n",
    "    search_query=search_query.with_columns([\n",
    "    (pl.col(c).fill_null(0.0) / (max_val + 1e-9)).alias(c)\n",
    "    ])\n",
    "\n",
    "for c in queries_entropies:\n",
    "    if( c in [ 'query_entropy','cluster_entropy']):\n",
    "        k=max_clients\n",
    "    else:\n",
    "        if(c=='user_query_entropy'):\n",
    "            k=max_queries\n",
    "        else:\n",
    "            k=max_clusters\n",
    "    search_query=search_query.with_columns([\n",
    "    (pl.col(c).fill_null(0.0) / (k + 1e-9)).alias(c)\n",
    "    ])\n",
    "max_time_diff=search_query[\"time_diff\"].max()\n",
    "search_query=search_query.with_columns([\n",
    "    (pl.col('time_diff')/max_time_diff).alias('time_diff')\n",
    "    ])\n",
    "\n",
    "search_query"
   ]
  },
  {
   "cell_type": "code",
   "execution_count": null,
   "metadata": {},
   "outputs": [],
   "source": [
    "#adding query embeddings\n",
    "max_val_queries=(\n",
    "    queries.explode(\"embedding\")\n",
    "      .select(pl.col(\"embedding\").max())\n",
    ")\n",
    "queries=queries.with_columns([(pl.col(\"embedding\")/max_val_queries).alias(\"norm\")])"
   ]
  },
  {
   "cell_type": "code",
   "execution_count": null,
   "metadata": {},
   "outputs": [],
   "source": [
    "\n",
    "# search_query = search_query.filter(pl.col(\"client_id\").is_in(relevant_clients))\n",
    "search_query.write_parquet(\"noscale/split14/search_events_sub.parquet\")\n",
    "search_query = search_query.filter(pl.col(\"client_id\").is_in(relevant_clients))\n",
    "search_query.write_parquet(\"noscale/split14/onlyrel/search_events_sub.parquet\")"
   ]
  }
 ],
 "metadata": {
  "kaggle": {
   "accelerator": "none",
   "dataSources": [
    {
     "datasetId": 7055421,
     "isSourceIdPinned": true,
     "sourceId": 11995364,
     "sourceType": "datasetVersion"
    },
    {
     "datasetId": 7540153,
     "sourceId": 11995967,
     "sourceType": "datasetVersion"
    }
   ],
   "dockerImageVersionId": 31040,
   "isGpuEnabled": false,
   "isInternetEnabled": true,
   "language": "python",
   "sourceType": "notebook"
  },
  "kernelspec": {
   "display_name": "ACM_2025",
   "language": "python",
   "name": "python3"
  },
  "language_info": {
   "codemirror_mode": {
    "name": "ipython",
    "version": 3
   },
   "file_extension": ".py",
   "mimetype": "text/x-python",
   "name": "python",
   "nbconvert_exporter": "python",
   "pygments_lexer": "ipython3",
   "version": "3.11.8"
  }
 },
 "nbformat": 4,
 "nbformat_minor": 4
}
